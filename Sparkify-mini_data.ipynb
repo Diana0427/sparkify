{
 "cells": [
  {
   "cell_type": "markdown",
   "metadata": {},
   "source": [
    "# Sparkify 项目 Workspace\n",
    "这个 Workspace 包括一个迷你的子数据集（128MB），是完整数据集（12GB）的一个子集。在将你的项目部署到云上之前，你可以自由使用 Workspace 来创建你的项目或用Spark来探索这个较小数据集。设置 Spark 集群的指南可以在选修 Spark 课程的内容里找到。\n",
    "\n",
    "你可以依照下面的步骤进行项目的数据分析和模型搭建部分。"
   ]
  },
  {
   "cell_type": "code",
   "execution_count": 1,
   "metadata": {},
   "outputs": [],
   "source": [
    "# import libraries\n",
    "from pyspark.sql import SparkSession\n",
    "from pyspark.sql.functions import isnan, count, when, avg, col, concat, desc, sort_array, asc, min, max, split, udf\n",
    "from pyspark.sql.functions import sum as Fsum\n",
    "from pyspark.sql.types import IntegerType\n",
    "\n",
    "from pyspark.ml import Pipeline\n",
    "from pyspark.ml.classification import LogisticRegression, RandomForestClassifier, GBTClassifier\n",
    "from pyspark.ml.evaluation import MulticlassClassificationEvaluator\n",
    "from pyspark.ml.feature import CountVectorizer, Normalizer, StandardScaler, VectorAssembler\n",
    "from pyspark.ml.tuning import CrossValidator, ParamGridBuilder\n",
    "\n",
    "import datetime\n",
    "\n",
    "import numpy as np\n",
    "import pandas as pd\n",
    "import matplotlib.pyplot as plt\n",
    "import seaborn as sb\n",
    "%matplotlib inline"
   ]
  },
  {
   "cell_type": "code",
   "execution_count": 2,
   "metadata": {},
   "outputs": [],
   "source": [
    "# create a Spark session\n",
    "spark = SparkSession.builder.appName('Mini Sparkify').getOrCreate()"
   ]
  },
  {
   "cell_type": "markdown",
   "metadata": {},
   "source": [
    "# 加载和清洗数据\n",
    "在这个 Workspace 中，小数据集的名称是 `mini_sparkify_event_data.json`。加载和清洗数据集，检查是否有无效或缺失数据——例如，没有userid或sessionid的数据。 "
   ]
  },
  {
   "cell_type": "code",
   "execution_count": 3,
   "metadata": {},
   "outputs": [],
   "source": [
    "df = spark.read.json('../spark/mini_sparkify_event_data.json')"
   ]
  },
  {
   "cell_type": "code",
   "execution_count": 4,
   "metadata": {},
   "outputs": [
    {
     "name": "stdout",
     "output_type": "stream",
     "text": [
      "root\n",
      " |-- artist: string (nullable = true)\n",
      " |-- auth: string (nullable = true)\n",
      " |-- firstName: string (nullable = true)\n",
      " |-- gender: string (nullable = true)\n",
      " |-- itemInSession: long (nullable = true)\n",
      " |-- lastName: string (nullable = true)\n",
      " |-- length: double (nullable = true)\n",
      " |-- level: string (nullable = true)\n",
      " |-- location: string (nullable = true)\n",
      " |-- method: string (nullable = true)\n",
      " |-- page: string (nullable = true)\n",
      " |-- registration: long (nullable = true)\n",
      " |-- sessionId: long (nullable = true)\n",
      " |-- song: string (nullable = true)\n",
      " |-- status: long (nullable = true)\n",
      " |-- ts: long (nullable = true)\n",
      " |-- userAgent: string (nullable = true)\n",
      " |-- userId: string (nullable = true)\n",
      "\n"
     ]
    }
   ],
   "source": [
    "df.printSchema()"
   ]
  },
  {
   "cell_type": "code",
   "execution_count": 5,
   "metadata": {},
   "outputs": [
    {
     "data": {
      "text/plain": [
       "[Row(artist='Martha Tilston', auth='Logged In', firstName='Colin', gender='M', itemInSession=50, lastName='Freeman', length=277.89016, level='paid', location='Bakersfield, CA', method='PUT', page='NextSong', registration=1538173362000, sessionId=29, song='Rockpools', status=200, ts=1538352117000, userAgent='Mozilla/5.0 (Windows NT 6.1; WOW64; rv:31.0) Gecko/20100101 Firefox/31.0', userId='30')]"
      ]
     },
     "execution_count": 5,
     "metadata": {},
     "output_type": "execute_result"
    }
   ],
   "source": [
    "df.take(1)"
   ]
  },
  {
   "cell_type": "markdown",
   "metadata": {},
   "source": [
    "## 清洗数据"
   ]
  },
  {
   "cell_type": "markdown",
   "metadata": {},
   "source": [
    "### 处理缺失值"
   ]
  },
  {
   "cell_type": "code",
   "execution_count": 6,
   "metadata": {},
   "outputs": [
    {
     "data": {
      "text/plain": [
       "286500"
      ]
     },
     "execution_count": 6,
     "metadata": {},
     "output_type": "execute_result"
    }
   ],
   "source": [
    "df.count()"
   ]
  },
  {
   "cell_type": "code",
   "execution_count": 7,
   "metadata": {},
   "outputs": [
    {
     "data": {
      "text/plain": [
       "286500"
      ]
     },
     "execution_count": 7,
     "metadata": {},
     "output_type": "execute_result"
    }
   ],
   "source": [
    "df = df.dropna(how = 'any', subset = ['userId', 'sessionId'])\n",
    "df.count()"
   ]
  },
  {
   "cell_type": "markdown",
   "metadata": {},
   "source": [
    "- 一共有286500条记录。"
   ]
  },
  {
   "cell_type": "code",
   "execution_count": 8,
   "metadata": {},
   "outputs": [
    {
     "name": "stdout",
     "output_type": "stream",
     "text": [
      "+------+\n",
      "|userId|\n",
      "+------+\n",
      "|      |\n",
      "|    10|\n",
      "|   100|\n",
      "|100001|\n",
      "|100002|\n",
      "+------+\n",
      "only showing top 5 rows\n",
      "\n"
     ]
    }
   ],
   "source": [
    "df.select('userId').dropDuplicates().sort('userId').show(5)"
   ]
  },
  {
   "cell_type": "markdown",
   "metadata": {},
   "source": [
    "- 有些 userId 是空字符串。userId 为空字符串的原因可能有：未注册的用户、未登录账号的用户。"
   ]
  },
  {
   "cell_type": "code",
   "execution_count": 9,
   "metadata": {},
   "outputs": [
    {
     "data": {
      "text/plain": [
       "278154"
      ]
     },
     "execution_count": 9,
     "metadata": {},
     "output_type": "execute_result"
    }
   ],
   "source": [
    "# 去掉 userId 为空字符串的记录\n",
    "df = df.filter(df['userId'] != '')\n",
    "df.count()"
   ]
  },
  {
   "cell_type": "markdown",
   "metadata": {},
   "source": [
    "- 另外，用户在不同的页面上会有不同的记录，比如在听歌的时候会有歌手信息、歌曲时长等，而在访问首页、修改设置的时候不会有歌手信息等记录。所以对于 artist 等字段，值为 None 是合理的，不是缺失值。"
   ]
  },
  {
   "cell_type": "markdown",
   "metadata": {},
   "source": [
    "# 探索性数据分析\n",
    "当你使用完整数据集时，通过加载小数据集，在 Spark 中完成基础操作来实现探索性数据分析。在这个 Workspace 中，我们已经提供给你一个你可以探索的小数据集。"
   ]
  },
  {
   "cell_type": "markdown",
   "metadata": {},
   "source": [
    "### 定义客户流失\n",
    "\n",
    "在你完成初步分析之后，创建一列 `Churn` 作为模型的标签。我建议你使用 `Cancellation Confirmation` 事件来定义客户流失，该事件在付费或免费客户身上都有发生。作为一个奖励任务，你也可以深入了解 `Downgrade` 事件。"
   ]
  },
  {
   "cell_type": "code",
   "execution_count": 10,
   "metadata": {},
   "outputs": [
    {
     "data": {
      "text/plain": [
       "[Row(page='Cancel', count=52),\n",
       " Row(page='Submit Downgrade', count=63),\n",
       " Row(page='Thumbs Down', count=2546),\n",
       " Row(page='Home', count=10082),\n",
       " Row(page='Downgrade', count=2055),\n",
       " Row(page='Roll Advert', count=3933),\n",
       " Row(page='Logout', count=3226),\n",
       " Row(page='Save Settings', count=310),\n",
       " Row(page='Cancellation Confirmation', count=52),\n",
       " Row(page='About', count=495),\n",
       " Row(page='Settings', count=1514),\n",
       " Row(page='Add to Playlist', count=6526),\n",
       " Row(page='Add Friend', count=4277),\n",
       " Row(page='NextSong', count=228108),\n",
       " Row(page='Thumbs Up', count=12551),\n",
       " Row(page='Help', count=1454),\n",
       " Row(page='Upgrade', count=499),\n",
       " Row(page='Error', count=252),\n",
       " Row(page='Submit Upgrade', count=159)]"
      ]
     },
     "execution_count": 10,
     "metadata": {},
     "output_type": "execute_result"
    }
   ],
   "source": [
    "# page 的可能取值\n",
    "df.groupBy('page').count().collect()"
   ]
  },
  {
   "cell_type": "code",
   "execution_count": 11,
   "metadata": {},
   "outputs": [
    {
     "data": {
      "text/plain": [
       "['125', '51', '54', '100014', '101']"
      ]
     },
     "execution_count": 11,
     "metadata": {},
     "output_type": "execute_result"
    }
   ],
   "source": [
    "# 使用 Cancellation Confirmation 事件来定义客户流失。将有过该操作的用户定义为流失用户。\n",
    "# 生成流失用户列表\n",
    "churn_users = df.filter(df['page'] == 'Cancellation Confirmation').select('userId').dropDuplicates()\n",
    "churn_users_list = [user['userId'] for user in churn_users.collect()]\n",
    "churn_users_list[:5]"
   ]
  },
  {
   "cell_type": "code",
   "execution_count": 12,
   "metadata": {},
   "outputs": [
    {
     "data": {
      "text/plain": [
       "Row(artist='Martha Tilston', auth='Logged In', firstName='Colin', gender='M', itemInSession=50, lastName='Freeman', length=277.89016, level='paid', location='Bakersfield, CA', method='PUT', page='NextSong', registration=1538173362000, sessionId=29, song='Rockpools', status=200, ts=1538352117000, userAgent='Mozilla/5.0 (Windows NT 6.1; WOW64; rv:31.0) Gecko/20100101 Firefox/31.0', userId='30', churn=False)"
      ]
     },
     "execution_count": 12,
     "metadata": {},
     "output_type": "execute_result"
    }
   ],
   "source": [
    "# 增加一列，标记流失，True 代表流失，False 代表没有流失\n",
    "df_churn = df.withColumn('churn', df['userId'].isin(churn_users_list))\n",
    "df_churn.head()"
   ]
  },
  {
   "cell_type": "code",
   "execution_count": 13,
   "metadata": {},
   "outputs": [
    {
     "name": "stdout",
     "output_type": "stream",
     "text": [
      "总用户：225 人，其中流失用户：52 人，占总用户数的：23.1%\n"
     ]
    }
   ],
   "source": [
    "# 流失用户占比\n",
    "churn_users_num = len(churn_users_list)\n",
    "total_users_num = df_churn.select('userId').dropDuplicates().count()\n",
    "\n",
    "print('总用户：{} 人，其中流失用户：{} 人，占总用户数的：{:0.1f}%' \\\n",
    "      .format(total_users_num, churn_users_num, 100*churn_users_num/total_users_num))"
   ]
  },
  {
   "cell_type": "markdown",
   "metadata": {},
   "source": [
    "### 探索数据\n",
    "你定义好客户流失后，就可以执行一些探索性数据分析，观察留存用户和流失用户的行为。你可以首先把这两类用户的数据聚合到一起，观察固定时间内某个特定动作出现的次数或者播放音乐的数量。"
   ]
  },
  {
   "cell_type": "code",
   "execution_count": 14,
   "metadata": {},
   "outputs": [
    {
     "name": "stdout",
     "output_type": "stream",
     "text": [
      "auth : ['Cancelled', 'Logged In']\n",
      "gender : ['F', 'M']\n",
      "level : ['free', 'paid']\n",
      "method : ['PUT', 'GET']\n",
      "page : ['Cancel', 'Submit Downgrade', 'Thumbs Down', 'Home', 'Downgrade', 'Roll Advert', 'Logout', 'Save Settings', 'Cancellation Confirmation', 'About', 'Settings', 'Add to Playlist', 'Add Friend', 'NextSong', 'Thumbs Up', 'Help', 'Upgrade', 'Error', 'Submit Upgrade']\n",
      "status : [307, 404, 200]\n"
     ]
    }
   ],
   "source": [
    "# 分类变量可能取值（暂时不考虑变量：'artist', 'firstName', 'lastName', 'location', 'song', 'userAgent'）\n",
    "nominal_var_lists = ['auth', 'gender', 'level', 'method', 'page', 'status']\n",
    "for var in nominal_var_lists:\n",
    "    print(var, ':', [x[var] for x in df_churn.select(var).dropDuplicates().collect()])"
   ]
  },
  {
   "cell_type": "code",
   "execution_count": 15,
   "metadata": {},
   "outputs": [
    {
     "name": "stdout",
     "output_type": "stream",
     "text": [
      "+-------+------------------+\n",
      "|summary|            length|\n",
      "+-------+------------------+\n",
      "|  count|            228108|\n",
      "|   mean|249.11718197783583|\n",
      "| stddev| 99.23517921058313|\n",
      "|    min|           0.78322|\n",
      "|    max|        3024.66567|\n",
      "+-------+------------------+\n",
      "\n"
     ]
    }
   ],
   "source": [
    "df_churn.describe(['length']).show()"
   ]
  },
  {
   "cell_type": "markdown",
   "metadata": {},
   "source": [
    "#### 留存用户和流失用户之间的对比"
   ]
  },
  {
   "cell_type": "markdown",
   "metadata": {},
   "source": [
    "1. 人口统计学特征对比"
   ]
  },
  {
   "cell_type": "code",
   "execution_count": 16,
   "metadata": {},
   "outputs": [
    {
     "data": {
      "image/png": "[encoded data removed]",
      "text/plain": [
       "<Figure size 432x288 with 1 Axes>"
      ]
     },
     "metadata": {
      "needs_background": "light"
     },
     "output_type": "display_data"
    }
   ],
   "source": [
    "# 1.1 性别\n",
    "gender_df = df_churn.select(['userId', 'gender', 'churn']).dropDuplicates().toPandas()\n",
    "\n",
    "ax = sb.countplot(data=gender_df, x='gender', hue='churn')\n",
    "plt.xlabel('用户性别', fontsize=10)\n",
    "plt.ylabel('用户数量', fontsize=10)\n",
    "plt.title('留存用户 vs. 流失用户（性别）', fontsize=14)\n",
    "ax.legend(title='是否流失')\n",
    "plt.show()"
   ]
  },
  {
   "cell_type": "code",
   "execution_count": 17,
   "metadata": {},
   "outputs": [
    {
     "name": "stdout",
     "output_type": "stream",
     "text": [
      "男性用户流失比例为：26.4%，女性用户流失比例为：19.2%。\n"
     ]
    }
   ],
   "source": [
    "churn_gender_M_num = df_churn.filter((df_churn['gender'] == 'M') & (df_churn['churn'] == 'True')) \\\n",
    "                .select('userId').dropDuplicates().count()\n",
    "churn_gender_F_num = df_churn.filter((df_churn['gender'] == 'F') & (df_churn['churn'] == 'True')) \\\n",
    "                .select('userId').dropDuplicates().count()\n",
    "\n",
    "gender_M_num = df_churn.filter(df_churn['gender'] == 'M').select('userId').dropDuplicates().count()\n",
    "gender_F_num = df_churn.filter(df_churn['gender'] == 'F').select('userId').dropDuplicates().count()\n",
    "\n",
    "print('男性用户流失比例为：{:0.1f}%，女性用户流失比例为：{:0.1f}%。' \\\n",
    "      .format(100*churn_gender_M_num/gender_M_num, 100*churn_gender_F_num/gender_F_num))"
   ]
  },
  {
   "cell_type": "code",
   "execution_count": 18,
   "metadata": {},
   "outputs": [
    {
     "data": {
      "text/html": [
       "<div>\n",
       "<style scoped>\n",
       "    .dataframe tbody tr th:only-of-type {\n",
       "        vertical-align: middle;\n",
       "    }\n",
       "\n",
       "    .dataframe tbody tr th {\n",
       "        vertical-align: top;\n",
       "    }\n",
       "\n",
       "    .dataframe thead th {\n",
       "        text-align: right;\n",
       "    }\n",
       "</style>\n",
       "<table border=\"1\" class=\"dataframe\">\n",
       "  <thead>\n",
       "    <tr style=\"text-align: right;\">\n",
       "      <th></th>\n",
       "      <th>userId</th>\n",
       "      <th>location</th>\n",
       "      <th>churn</th>\n",
       "      <th>locationstate</th>\n",
       "    </tr>\n",
       "  </thead>\n",
       "  <tbody>\n",
       "    <tr>\n",
       "      <th>0</th>\n",
       "      <td>113</td>\n",
       "      <td>Charlotte-Concord-Gastonia, NC-SC</td>\n",
       "      <td>False</td>\n",
       "      <td>SC</td>\n",
       "    </tr>\n",
       "    <tr>\n",
       "      <th>1</th>\n",
       "      <td>47</td>\n",
       "      <td>Columbus, GA-AL</td>\n",
       "      <td>False</td>\n",
       "      <td>AL</td>\n",
       "    </tr>\n",
       "    <tr>\n",
       "      <th>2</th>\n",
       "      <td>156</td>\n",
       "      <td>Scranton--Wilkes-Barre--Hazleton, PA</td>\n",
       "      <td>False</td>\n",
       "      <td>PA</td>\n",
       "    </tr>\n",
       "    <tr>\n",
       "      <th>3</th>\n",
       "      <td>200015</td>\n",
       "      <td>San Diego-Carlsbad, CA</td>\n",
       "      <td>True</td>\n",
       "      <td>CA</td>\n",
       "    </tr>\n",
       "    <tr>\n",
       "      <th>4</th>\n",
       "      <td>129</td>\n",
       "      <td>Flint, MI</td>\n",
       "      <td>True</td>\n",
       "      <td>MI</td>\n",
       "    </tr>\n",
       "  </tbody>\n",
       "</table>\n",
       "</div>"
      ],
      "text/plain": [
       "   userId                              location  churn locationstate\n",
       "0     113     Charlotte-Concord-Gastonia, NC-SC  False            SC\n",
       "1      47                       Columbus, GA-AL  False            AL\n",
       "2     156  Scranton--Wilkes-Barre--Hazleton, PA  False            PA\n",
       "3  200015                San Diego-Carlsbad, CA   True            CA\n",
       "4     129                             Flint, MI   True            MI"
      ]
     },
     "execution_count": 18,
     "metadata": {},
     "output_type": "execute_result"
    }
   ],
   "source": [
    "# 1.2 所在地\n",
    "get_state = udf(lambda x: x[-2:])\n",
    "\n",
    "state_df = df_churn.select('userId', 'location', 'churn') \\\n",
    "        .withColumn('locationstate', get_state(df_churn['location'])) \\\n",
    "        .dropDuplicates() \\\n",
    "        .toPandas()\n",
    "\n",
    "state_df.head()"
   ]
  },
  {
   "cell_type": "code",
   "execution_count": 19,
   "metadata": {},
   "outputs": [
    {
     "data": {
      "image/png": "[encoded data removed]",
      "text/plain": [
       "<Figure size 1080x360 with 1 Axes>"
      ]
     },
     "metadata": {
      "needs_background": "light"
     },
     "output_type": "display_data"
    }
   ],
   "source": [
    "plt.figure(figsize = [15, 5])\n",
    "ax = sb.countplot(data=state_df, x='locationstate', hue='churn')\n",
    "plt.xlabel('所在地', fontsize=10)\n",
    "plt.ylabel('用户数量', fontsize=10)\n",
    "plt.title('留存用户 vs. 流失用户（所在地）', fontsize=14)\n",
    "ax.legend(loc='upper right', title='是否流失')\n",
    "plt.show()"
   ]
  },
  {
   "cell_type": "markdown",
   "metadata": {},
   "source": [
    "- 不同的地区流失率不同。不过由于所在地的种类较多，需要聚合成大一级的区域进一步分析。"
   ]
  },
  {
   "cell_type": "markdown",
   "metadata": {},
   "source": [
    "2. 应用使用情况对比"
   ]
  },
  {
   "cell_type": "code",
   "execution_count": 20,
   "metadata": {},
   "outputs": [
    {
     "data": {
      "text/html": [
       "<div>\n",
       "<style scoped>\n",
       "    .dataframe tbody tr th:only-of-type {\n",
       "        vertical-align: middle;\n",
       "    }\n",
       "\n",
       "    .dataframe tbody tr th {\n",
       "        vertical-align: top;\n",
       "    }\n",
       "\n",
       "    .dataframe thead th {\n",
       "        text-align: right;\n",
       "    }\n",
       "</style>\n",
       "<table border=\"1\" class=\"dataframe\">\n",
       "  <thead>\n",
       "    <tr style=\"text-align: right;\">\n",
       "      <th></th>\n",
       "      <th>userId</th>\n",
       "      <th>registration</th>\n",
       "      <th>churn</th>\n",
       "      <th>yearmonth</th>\n",
       "    </tr>\n",
       "  </thead>\n",
       "  <tbody>\n",
       "    <tr>\n",
       "      <th>0</th>\n",
       "      <td>7</td>\n",
       "      <td>1536667576000</td>\n",
       "      <td>False</td>\n",
       "      <td>201809</td>\n",
       "    </tr>\n",
       "    <tr>\n",
       "      <th>1</th>\n",
       "      <td>200024</td>\n",
       "      <td>1537897424000</td>\n",
       "      <td>True</td>\n",
       "      <td>201809</td>\n",
       "    </tr>\n",
       "    <tr>\n",
       "      <th>2</th>\n",
       "      <td>200005</td>\n",
       "      <td>1533532298000</td>\n",
       "      <td>False</td>\n",
       "      <td>201808</td>\n",
       "    </tr>\n",
       "    <tr>\n",
       "      <th>3</th>\n",
       "      <td>16</td>\n",
       "      <td>1536597540000</td>\n",
       "      <td>False</td>\n",
       "      <td>201809</td>\n",
       "    </tr>\n",
       "    <tr>\n",
       "      <th>4</th>\n",
       "      <td>118</td>\n",
       "      <td>1537893493000</td>\n",
       "      <td>False</td>\n",
       "      <td>201809</td>\n",
       "    </tr>\n",
       "  </tbody>\n",
       "</table>\n",
       "</div>"
      ],
      "text/plain": [
       "   userId   registration  churn yearmonth\n",
       "0       7  1536667576000  False    201809\n",
       "1  200024  1537897424000   True    201809\n",
       "2  200005  1533532298000  False    201808\n",
       "3      16  1536597540000  False    201809\n",
       "4     118  1537893493000  False    201809"
      ]
     },
     "execution_count": 20,
     "metadata": {},
     "output_type": "execute_result"
    }
   ],
   "source": [
    "# 2.1 注册日期（年月）\n",
    "get_yearmonth = udf(lambda x: datetime.datetime.fromtimestamp(x / 1000.0).strftime('%Y%m'))\n",
    "\n",
    "reg_df = df_churn.select('userId', 'registration', 'churn') \\\n",
    "        .withColumn('yearmonth', get_yearmonth(df_churn['registration'])) \\\n",
    "        .dropDuplicates() \\\n",
    "        .toPandas()\n",
    "\n",
    "reg_df.head()"
   ]
  },
  {
   "cell_type": "code",
   "execution_count": 21,
   "metadata": {},
   "outputs": [
    {
     "data": {
      "image/png": "[encoded data removed]",
      "text/plain": [
       "<Figure size 720x360 with 1 Axes>"
      ]
     },
     "metadata": {
      "needs_background": "light"
     },
     "output_type": "display_data"
    }
   ],
   "source": [
    "plt.figure(figsize = [10, 5])\n",
    "ax = sb.countplot(data=reg_df, x='yearmonth', hue='churn')\n",
    "plt.xlabel('注册年月', fontsize=10)\n",
    "plt.ylabel('用户数量', fontsize=10)\n",
    "plt.title('不同时期注册的用户流失情况', fontsize=14)\n",
    "ax.legend(loc='upper right', title='是否流失')\n",
    "plt.show()"
   ]
  },
  {
   "cell_type": "markdown",
   "metadata": {},
   "source": [
    "- 很多月份只有几个注册用户，因此不同注册月份的用户流失比例相差较大。"
   ]
  },
  {
   "cell_type": "code",
   "execution_count": 22,
   "metadata": {},
   "outputs": [
    {
     "data": {
      "text/plain": [
       "165"
      ]
     },
     "execution_count": 22,
     "metadata": {},
     "output_type": "execute_result"
    }
   ],
   "source": [
    "# 2.2 是否付费（用户等级）\n",
    "# 生成有付费行为的用户列表\n",
    "paid_users = df.filter(df['level'] == 'paid').select('userId').dropDuplicates()\n",
    "paid_users_list = [user['userId'] for user in paid_users.collect()]\n",
    "len(paid_users_list)"
   ]
  },
  {
   "cell_type": "code",
   "execution_count": 23,
   "metadata": {},
   "outputs": [
    {
     "data": {
      "text/html": [
       "<div>\n",
       "<style scoped>\n",
       "    .dataframe tbody tr th:only-of-type {\n",
       "        vertical-align: middle;\n",
       "    }\n",
       "\n",
       "    .dataframe tbody tr th {\n",
       "        vertical-align: top;\n",
       "    }\n",
       "\n",
       "    .dataframe thead th {\n",
       "        text-align: right;\n",
       "    }\n",
       "</style>\n",
       "<table border=\"1\" class=\"dataframe\">\n",
       "  <thead>\n",
       "    <tr style=\"text-align: right;\">\n",
       "      <th></th>\n",
       "      <th>userId</th>\n",
       "      <th>churn</th>\n",
       "      <th>has_paid</th>\n",
       "    </tr>\n",
       "  </thead>\n",
       "  <tbody>\n",
       "    <tr>\n",
       "      <th>0</th>\n",
       "      <td>109</td>\n",
       "      <td>False</td>\n",
       "      <td>True</td>\n",
       "    </tr>\n",
       "    <tr>\n",
       "      <th>1</th>\n",
       "      <td>70</td>\n",
       "      <td>True</td>\n",
       "      <td>True</td>\n",
       "    </tr>\n",
       "    <tr>\n",
       "      <th>2</th>\n",
       "      <td>83</td>\n",
       "      <td>False</td>\n",
       "      <td>True</td>\n",
       "    </tr>\n",
       "    <tr>\n",
       "      <th>3</th>\n",
       "      <td>300011</td>\n",
       "      <td>False</td>\n",
       "      <td>True</td>\n",
       "    </tr>\n",
       "    <tr>\n",
       "      <th>4</th>\n",
       "      <td>68</td>\n",
       "      <td>False</td>\n",
       "      <td>False</td>\n",
       "    </tr>\n",
       "  </tbody>\n",
       "</table>\n",
       "</div>"
      ],
      "text/plain": [
       "   userId  churn  has_paid\n",
       "0     109  False      True\n",
       "1      70   True      True\n",
       "2      83  False      True\n",
       "3  300011  False      True\n",
       "4      68  False     False"
      ]
     },
     "execution_count": 23,
     "metadata": {},
     "output_type": "execute_result"
    }
   ],
   "source": [
    "level_df = df_churn.select('userId', 'churn') \\\n",
    "        .withColumn('has_paid', df_churn['userId'].isin(paid_users_list)) \\\n",
    "        .dropDuplicates() \\\n",
    "        .toPandas()\n",
    "\n",
    "level_df.head()"
   ]
  },
  {
   "cell_type": "code",
   "execution_count": 24,
   "metadata": {},
   "outputs": [
    {
     "data": {
      "image/png": "[encoded data removed]",
      "text/plain": [
       "<Figure size 432x288 with 1 Axes>"
      ]
     },
     "metadata": {
      "needs_background": "light"
     },
     "output_type": "display_data"
    }
   ],
   "source": [
    "ax = sb.countplot(data=level_df, x='has_paid', hue='churn')\n",
    "plt.xlabel('用户是否付过费', fontsize=10)\n",
    "plt.ylabel('用户数量', fontsize=10)\n",
    "plt.title('留存用户 vs. 流失用户（付费情况）', fontsize=14)\n",
    "ax.legend(loc='upper right', title='是否流失')\n",
    "plt.show()"
   ]
  },
  {
   "cell_type": "code",
   "execution_count": 25,
   "metadata": {},
   "outputs": [
    {
     "name": "stdout",
     "output_type": "stream",
     "text": [
      "没有过消费的用户流失比例为：26.7%，有过消费的用户流失比例为：21.8%。\n"
     ]
    }
   ],
   "source": [
    "churn_paid_T_num = sum(level_df['has_paid'].loc[level_df['churn'] == True])\n",
    "paid_T_num = len(paid_users_list)\n",
    "\n",
    "churn_paid_F_num = sum(~level_df['has_paid'].loc[level_df['churn'] == True])\n",
    "paid_F_num = level_df.shape[0] - paid_T_num\n",
    "\n",
    "print('没有过消费的用户流失比例为：{:0.1f}%，有过消费的用户流失比例为：{:0.1f}%。'\\\n",
    "      .format(100*churn_paid_F_num/paid_F_num, 100*churn_paid_T_num/paid_T_num))"
   ]
  },
  {
   "cell_type": "code",
   "execution_count": 26,
   "metadata": {},
   "outputs": [
    {
     "data": {
      "text/html": [
       "<div>\n",
       "<style scoped>\n",
       "    .dataframe tbody tr th:only-of-type {\n",
       "        vertical-align: middle;\n",
       "    }\n",
       "\n",
       "    .dataframe tbody tr th {\n",
       "        vertical-align: top;\n",
       "    }\n",
       "\n",
       "    .dataframe thead th {\n",
       "        text-align: right;\n",
       "    }\n",
       "</style>\n",
       "<table border=\"1\" class=\"dataframe\">\n",
       "  <thead>\n",
       "    <tr style=\"text-align: right;\">\n",
       "      <th></th>\n",
       "      <th>userId</th>\n",
       "      <th>About</th>\n",
       "      <th>Add Friend</th>\n",
       "      <th>Add to Playlist</th>\n",
       "      <th>Cancel</th>\n",
       "      <th>Churn</th>\n",
       "      <th>Downgrade</th>\n",
       "      <th>Error</th>\n",
       "      <th>Help</th>\n",
       "      <th>Home</th>\n",
       "      <th>Logout</th>\n",
       "      <th>NextSong</th>\n",
       "      <th>Roll Advert</th>\n",
       "      <th>Save Settings</th>\n",
       "      <th>Settings</th>\n",
       "      <th>Submit Downgrade</th>\n",
       "      <th>Submit Upgrade</th>\n",
       "      <th>Thumbs Down</th>\n",
       "      <th>Thumbs Up</th>\n",
       "      <th>Upgrade</th>\n",
       "    </tr>\n",
       "  </thead>\n",
       "  <tbody>\n",
       "    <tr>\n",
       "      <th>0</th>\n",
       "      <td>200002</td>\n",
       "      <td>3</td>\n",
       "      <td>4</td>\n",
       "      <td>8</td>\n",
       "      <td>0</td>\n",
       "      <td>0</td>\n",
       "      <td>5</td>\n",
       "      <td>0</td>\n",
       "      <td>2</td>\n",
       "      <td>20</td>\n",
       "      <td>5</td>\n",
       "      <td>387</td>\n",
       "      <td>7</td>\n",
       "      <td>0</td>\n",
       "      <td>3</td>\n",
       "      <td>0</td>\n",
       "      <td>1</td>\n",
       "      <td>6</td>\n",
       "      <td>21</td>\n",
       "      <td>2</td>\n",
       "    </tr>\n",
       "    <tr>\n",
       "      <th>1</th>\n",
       "      <td>100010</td>\n",
       "      <td>1</td>\n",
       "      <td>4</td>\n",
       "      <td>7</td>\n",
       "      <td>0</td>\n",
       "      <td>0</td>\n",
       "      <td>0</td>\n",
       "      <td>0</td>\n",
       "      <td>2</td>\n",
       "      <td>11</td>\n",
       "      <td>5</td>\n",
       "      <td>275</td>\n",
       "      <td>52</td>\n",
       "      <td>0</td>\n",
       "      <td>0</td>\n",
       "      <td>0</td>\n",
       "      <td>0</td>\n",
       "      <td>5</td>\n",
       "      <td>17</td>\n",
       "      <td>2</td>\n",
       "    </tr>\n",
       "    <tr>\n",
       "      <th>2</th>\n",
       "      <td>125</td>\n",
       "      <td>0</td>\n",
       "      <td>0</td>\n",
       "      <td>0</td>\n",
       "      <td>1</td>\n",
       "      <td>1</td>\n",
       "      <td>0</td>\n",
       "      <td>0</td>\n",
       "      <td>0</td>\n",
       "      <td>0</td>\n",
       "      <td>0</td>\n",
       "      <td>8</td>\n",
       "      <td>1</td>\n",
       "      <td>0</td>\n",
       "      <td>0</td>\n",
       "      <td>0</td>\n",
       "      <td>0</td>\n",
       "      <td>0</td>\n",
       "      <td>0</td>\n",
       "      <td>0</td>\n",
       "    </tr>\n",
       "    <tr>\n",
       "      <th>3</th>\n",
       "      <td>51</td>\n",
       "      <td>2</td>\n",
       "      <td>28</td>\n",
       "      <td>52</td>\n",
       "      <td>1</td>\n",
       "      <td>1</td>\n",
       "      <td>23</td>\n",
       "      <td>1</td>\n",
       "      <td>12</td>\n",
       "      <td>75</td>\n",
       "      <td>24</td>\n",
       "      <td>2111</td>\n",
       "      <td>0</td>\n",
       "      <td>1</td>\n",
       "      <td>12</td>\n",
       "      <td>0</td>\n",
       "      <td>0</td>\n",
       "      <td>21</td>\n",
       "      <td>100</td>\n",
       "      <td>0</td>\n",
       "    </tr>\n",
       "    <tr>\n",
       "      <th>4</th>\n",
       "      <td>124</td>\n",
       "      <td>7</td>\n",
       "      <td>74</td>\n",
       "      <td>118</td>\n",
       "      <td>0</td>\n",
       "      <td>0</td>\n",
       "      <td>41</td>\n",
       "      <td>6</td>\n",
       "      <td>23</td>\n",
       "      <td>176</td>\n",
       "      <td>59</td>\n",
       "      <td>4079</td>\n",
       "      <td>4</td>\n",
       "      <td>6</td>\n",
       "      <td>20</td>\n",
       "      <td>0</td>\n",
       "      <td>0</td>\n",
       "      <td>41</td>\n",
       "      <td>171</td>\n",
       "      <td>0</td>\n",
       "    </tr>\n",
       "  </tbody>\n",
       "</table>\n",
       "</div>"
      ],
      "text/plain": [
       "   userId  About  Add Friend  Add to Playlist  Cancel  Churn  Downgrade  \\\n",
       "0  200002      3           4                8       0      0          5   \n",
       "1  100010      1           4                7       0      0          0   \n",
       "2     125      0           0                0       1      1          0   \n",
       "3      51      2          28               52       1      1         23   \n",
       "4     124      7          74              118       0      0         41   \n",
       "\n",
       "   Error  Help  Home  Logout  NextSong  Roll Advert  Save Settings  Settings  \\\n",
       "0      0     2    20       5       387            7              0         3   \n",
       "1      0     2    11       5       275           52              0         0   \n",
       "2      0     0     0       0         8            1              0         0   \n",
       "3      1    12    75      24      2111            0              1        12   \n",
       "4      6    23   176      59      4079            4              6        20   \n",
       "\n",
       "   Submit Downgrade  Submit Upgrade  Thumbs Down  Thumbs Up  Upgrade  \n",
       "0                 0               1            6         21        2  \n",
       "1                 0               0            5         17        2  \n",
       "2                 0               0            0          0        0  \n",
       "3                 0               0           21        100        0  \n",
       "4                 0               0           41        171        0  "
      ]
     },
     "execution_count": 26,
     "metadata": {},
     "output_type": "execute_result"
    }
   ],
   "source": [
    "# 2.3 访问不同页面的次数\n",
    "# 生成用户-页面关系矩阵\n",
    "user_page = df_churn.groupBy(['userId']).pivot('page').count().fillna(0).toPandas()\n",
    "# 重新命名用来定义流失的列\n",
    "user_page = user_page.rename(columns={'Cancellation Confirmation': 'Churn'})\n",
    "user_page.head()"
   ]
  },
  {
   "cell_type": "code",
   "execution_count": 27,
   "metadata": {},
   "outputs": [
    {
     "data": {
      "image/png": "[encoded data removed]",
      "text/plain": [
       "<Figure size 1080x864 with 15 Axes>"
      ]
     },
     "metadata": {
      "needs_background": "light"
     },
     "output_type": "display_data"
    }
   ],
   "source": [
    "# 不同页面互动次数 vs. 是否流失\n",
    "c_variables = ['About', 'Add Friend', 'Add to Playlist', 'Downgrade', 'Error', 'Help', 'Home', 'Logout', \n",
    "               'NextSong', 'Roll Advert', 'Save Settings', 'Settings', 'Thumbs Down', 'Thumbs Up', 'Upgrade']\n",
    "\n",
    "subCnt = 1  # 初始化子图标号\n",
    "fig = plt.figure(figsize=(15, 12))\n",
    "\n",
    "for var in c_variables:\n",
    "    fig.add_subplot(3, 5, subCnt)\n",
    "    sb.boxplot(data=user_page, x='Churn', y=var)\n",
    "    subCnt = subCnt + 1\n",
    "    \n",
    "fig.suptitle('留存用户 vs. 流失用户（不同页面互动次数）', fontsize=14)\n",
    "fig.subplots_adjust(top=.9, wspace=.4)\n",
    "plt.show()"
   ]
  },
  {
   "cell_type": "markdown",
   "metadata": {},
   "source": [
    "从图中展现的数据，我觉得可以将页面大致分为3类：\n",
    "\n",
    "1. 对用户留存有正面效果的页面：'Add Friend'（形成一个社交圈以及社交活动可以促进用户的留存）, 'Add to Playlist'（生成自己个性化的播放列表）, 'Thumbs Up'（表达喜欢、满意）, 'NextSong'（听歌的次数）, 'Help'（用户和网站的互动）。\n",
    "2. 对用户留存有中性效果的页面：'About', 'Home', 'Logout', 'Error', 'Save Settings', 'Settings'。由于留存用户要比流失用户使用的时间、频次更多，所以有更多机会遇到这些页面。于是虽然这些页面不直接反映用户偏好，但是留存用户的次数要比流失用户的次数多。\n",
    "3. 对用户留存有负面效果的页面：'Roll Advert'（一般广告会带来一些负面效果）, 'Thumbs Down'（表达不喜欢）。\n",
    "\n",
    "另外，不清楚'Downgrade'和'Upgrade'的具体含义，所以暂时先不考虑，以后改进的时候再考虑。"
   ]
  },
  {
   "cell_type": "code",
   "execution_count": 28,
   "metadata": {},
   "outputs": [
    {
     "data": {
      "text/html": [
       "<div>\n",
       "<style scoped>\n",
       "    .dataframe tbody tr th:only-of-type {\n",
       "        vertical-align: middle;\n",
       "    }\n",
       "\n",
       "    .dataframe tbody tr th {\n",
       "        vertical-align: top;\n",
       "    }\n",
       "\n",
       "    .dataframe thead th {\n",
       "        text-align: right;\n",
       "    }\n",
       "</style>\n",
       "<table border=\"1\" class=\"dataframe\">\n",
       "  <thead>\n",
       "    <tr style=\"text-align: right;\">\n",
       "      <th></th>\n",
       "      <th>userId</th>\n",
       "      <th>churn</th>\n",
       "      <th>lifetime</th>\n",
       "    </tr>\n",
       "  </thead>\n",
       "  <tbody>\n",
       "    <tr>\n",
       "      <th>0</th>\n",
       "      <td>19</td>\n",
       "      <td>False</td>\n",
       "      <td>21.451435</td>\n",
       "    </tr>\n",
       "    <tr>\n",
       "      <th>1</th>\n",
       "      <td>100005</td>\n",
       "      <td>True</td>\n",
       "      <td>85.195590</td>\n",
       "    </tr>\n",
       "    <tr>\n",
       "      <th>2</th>\n",
       "      <td>200007</td>\n",
       "      <td>False</td>\n",
       "      <td>53.397743</td>\n",
       "    </tr>\n",
       "    <tr>\n",
       "      <th>3</th>\n",
       "      <td>300007</td>\n",
       "      <td>True</td>\n",
       "      <td>11.553704</td>\n",
       "    </tr>\n",
       "    <tr>\n",
       "      <th>4</th>\n",
       "      <td>50</td>\n",
       "      <td>False</td>\n",
       "      <td>75.447106</td>\n",
       "    </tr>\n",
       "  </tbody>\n",
       "</table>\n",
       "</div>"
      ],
      "text/plain": [
       "   userId  churn   lifetime\n",
       "0      19  False  21.451435\n",
       "1  100005   True  85.195590\n",
       "2  200007  False  53.397743\n",
       "3  300007   True  11.553704\n",
       "4      50  False  75.447106"
      ]
     },
     "execution_count": 28,
     "metadata": {},
     "output_type": "execute_result"
    }
   ],
   "source": [
    "# 2.4 注册到最后一次记录的天数\n",
    "lifetime_df = df_churn.select('userId', 'registration', 'ts', 'churn') \\\n",
    "        .withColumn('lifetime',(df_churn.ts-df_churn.registration)) \\\n",
    "        .groupBy('userId', 'churn') \\\n",
    "        .agg({'lifetime':'max'}) \\\n",
    "        .withColumnRenamed('max(lifetime)', 'lifetime') \\\n",
    "        .toPandas()\n",
    "\n",
    "lifetime_df['lifetime'] = lifetime_df['lifetime'] / (1000*3600*24)\n",
    "lifetime_df.head()"
   ]
  },
  {
   "cell_type": "code",
   "execution_count": 29,
   "metadata": {},
   "outputs": [
    {
     "data": {
      "image/png": "[encoded data removed]",
      "text/plain": [
       "<Figure size 432x288 with 1 Axes>"
      ]
     },
     "metadata": {
      "needs_background": "light"
     },
     "output_type": "display_data"
    }
   ],
   "source": [
    "ax = sb.boxplot(data=lifetime_df, x='churn', y='lifetime')\n",
    "plt.xlabel('是否流失', fontsize=10)\n",
    "plt.ylabel('用户从注册到最后一次记录的天数', fontsize=10)\n",
    "plt.title('留存用户 vs. 流失用户（留存天数）', fontsize=14)\n",
    "plt.show()"
   ]
  },
  {
   "cell_type": "code",
   "execution_count": 30,
   "metadata": {},
   "outputs": [
    {
     "data": {
      "text/html": [
       "<div>\n",
       "<style scoped>\n",
       "    .dataframe tbody tr th:only-of-type {\n",
       "        vertical-align: middle;\n",
       "    }\n",
       "\n",
       "    .dataframe tbody tr th {\n",
       "        vertical-align: top;\n",
       "    }\n",
       "\n",
       "    .dataframe thead th {\n",
       "        text-align: right;\n",
       "    }\n",
       "</style>\n",
       "<table border=\"1\" class=\"dataframe\">\n",
       "  <thead>\n",
       "    <tr style=\"text-align: right;\">\n",
       "      <th></th>\n",
       "      <th>userId</th>\n",
       "      <th>churn</th>\n",
       "      <th>sessioncount</th>\n",
       "    </tr>\n",
       "  </thead>\n",
       "  <tbody>\n",
       "    <tr>\n",
       "      <th>0</th>\n",
       "      <td>19</td>\n",
       "      <td>False</td>\n",
       "      <td>1</td>\n",
       "    </tr>\n",
       "    <tr>\n",
       "      <th>1</th>\n",
       "      <td>200007</td>\n",
       "      <td>False</td>\n",
       "      <td>3</td>\n",
       "    </tr>\n",
       "    <tr>\n",
       "      <th>2</th>\n",
       "      <td>100005</td>\n",
       "      <td>True</td>\n",
       "      <td>5</td>\n",
       "    </tr>\n",
       "    <tr>\n",
       "      <th>3</th>\n",
       "      <td>300007</td>\n",
       "      <td>True</td>\n",
       "      <td>1</td>\n",
       "    </tr>\n",
       "    <tr>\n",
       "      <th>4</th>\n",
       "      <td>50</td>\n",
       "      <td>False</td>\n",
       "      <td>8</td>\n",
       "    </tr>\n",
       "  </tbody>\n",
       "</table>\n",
       "</div>"
      ],
      "text/plain": [
       "   userId  churn  sessioncount\n",
       "0      19  False             1\n",
       "1  200007  False             3\n",
       "2  100005   True             5\n",
       "3  300007   True             1\n",
       "4      50  False             8"
      ]
     },
     "execution_count": 30,
     "metadata": {},
     "output_type": "execute_result"
    }
   ],
   "source": [
    "# 2.5 每个用户互动的次数\n",
    "session_df = df_churn.select('userId', 'sessionId', 'churn').dropDuplicates() \\\n",
    "        .groupby('userId', 'churn').count() \\\n",
    "        .withColumnRenamed('count', 'sessioncount') \\\n",
    "        .toPandas()\n",
    "session_df.head()"
   ]
  },
  {
   "cell_type": "code",
   "execution_count": 31,
   "metadata": {},
   "outputs": [
    {
     "data": {
      "image/png": "[encoded data removed]",
      "text/plain": [
       "<Figure size 432x288 with 1 Axes>"
      ]
     },
     "metadata": {
      "needs_background": "light"
     },
     "output_type": "display_data"
    }
   ],
   "source": [
    "ax = sb.boxplot(data=session_df, x='churn', y='sessioncount')\n",
    "plt.xlabel('是否流失', fontsize=10)\n",
    "plt.ylabel('互动的次数', fontsize=10)\n",
    "plt.title('留存用户 vs. 流失用户（互动的次数）', fontsize=14)\n",
    "plt.show()"
   ]
  },
  {
   "cell_type": "code",
   "execution_count": 32,
   "metadata": {},
   "outputs": [
    {
     "data": {
      "text/html": [
       "<div>\n",
       "<style scoped>\n",
       "    .dataframe tbody tr th:only-of-type {\n",
       "        vertical-align: middle;\n",
       "    }\n",
       "\n",
       "    .dataframe tbody tr th {\n",
       "        vertical-align: top;\n",
       "    }\n",
       "\n",
       "    .dataframe thead th {\n",
       "        text-align: right;\n",
       "    }\n",
       "</style>\n",
       "<table border=\"1\" class=\"dataframe\">\n",
       "  <thead>\n",
       "    <tr style=\"text-align: right;\">\n",
       "      <th></th>\n",
       "      <th>userId</th>\n",
       "      <th>churn</th>\n",
       "      <th>avg_songs</th>\n",
       "    </tr>\n",
       "  </thead>\n",
       "  <tbody>\n",
       "    <tr>\n",
       "      <th>0</th>\n",
       "      <td>19</td>\n",
       "      <td>False</td>\n",
       "      <td>216.0</td>\n",
       "    </tr>\n",
       "    <tr>\n",
       "      <th>1</th>\n",
       "      <td>100005</td>\n",
       "      <td>True</td>\n",
       "      <td>38.5</td>\n",
       "    </tr>\n",
       "    <tr>\n",
       "      <th>2</th>\n",
       "      <td>300007</td>\n",
       "      <td>True</td>\n",
       "      <td>111.0</td>\n",
       "    </tr>\n",
       "    <tr>\n",
       "      <th>3</th>\n",
       "      <td>200007</td>\n",
       "      <td>False</td>\n",
       "      <td>32.5</td>\n",
       "    </tr>\n",
       "    <tr>\n",
       "      <th>4</th>\n",
       "      <td>200002</td>\n",
       "      <td>False</td>\n",
       "      <td>64.5</td>\n",
       "    </tr>\n",
       "  </tbody>\n",
       "</table>\n",
       "</div>"
      ],
      "text/plain": [
       "   userId  churn  avg_songs\n",
       "0      19  False      216.0\n",
       "1  100005   True       38.5\n",
       "2  300007   True      111.0\n",
       "3  200007  False       32.5\n",
       "4  200002  False       64.5"
      ]
     },
     "execution_count": 32,
     "metadata": {},
     "output_type": "execute_result"
    }
   ],
   "source": [
    "# 2.6 平均每个 session 听多少首歌\n",
    "user_session_songs_df = df_churn.select('userID', 'sessionId', 'page', 'churn') \\\n",
    "                .filter(df_churn['page'] == 'NextSong') \\\n",
    "                .groupby('userId', 'churn', 'sessionId') \\\n",
    "                .agg({'page': 'count'}) \\\n",
    "                .groupby('userId', 'churn') \\\n",
    "                .agg({'count(page)': 'avg'}) \\\n",
    "                .withColumnRenamed('avg(count(page))', 'avg_songs') \\\n",
    "                .toPandas()\n",
    "    \n",
    "user_session_songs_df.head()         "
   ]
  },
  {
   "cell_type": "code",
   "execution_count": 33,
   "metadata": {},
   "outputs": [
    {
     "data": {
      "image/png": "[encoded data removed]",
      "text/plain": [
       "<Figure size 432x288 with 1 Axes>"
      ]
     },
     "metadata": {
      "needs_background": "light"
     },
     "output_type": "display_data"
    }
   ],
   "source": [
    "ax = sb.boxplot(data=user_session_songs_df, x='churn', y='avg_songs')\n",
    "plt.xlabel('是否流失', fontsize=10)\n",
    "plt.ylabel('平均每个 session 听歌数量', fontsize=10)\n",
    "plt.title('留存用户 vs. 流失用户（平均每个 session 听歌数量）', fontsize=14)\n",
    "plt.show()"
   ]
  },
  {
   "cell_type": "code",
   "execution_count": 34,
   "metadata": {},
   "outputs": [
    {
     "data": {
      "text/html": [
       "<div>\n",
       "<style scoped>\n",
       "    .dataframe tbody tr th:only-of-type {\n",
       "        vertical-align: middle;\n",
       "    }\n",
       "\n",
       "    .dataframe tbody tr th {\n",
       "        vertical-align: top;\n",
       "    }\n",
       "\n",
       "    .dataframe thead th {\n",
       "        text-align: right;\n",
       "    }\n",
       "</style>\n",
       "<table border=\"1\" class=\"dataframe\">\n",
       "  <thead>\n",
       "    <tr style=\"text-align: right;\">\n",
       "      <th></th>\n",
       "      <th>userId</th>\n",
       "      <th>churn</th>\n",
       "      <th>artistcount</th>\n",
       "    </tr>\n",
       "  </thead>\n",
       "  <tbody>\n",
       "    <tr>\n",
       "      <th>0</th>\n",
       "      <td>19</td>\n",
       "      <td>False</td>\n",
       "      <td>197</td>\n",
       "    </tr>\n",
       "    <tr>\n",
       "      <th>1</th>\n",
       "      <td>200007</td>\n",
       "      <td>False</td>\n",
       "      <td>64</td>\n",
       "    </tr>\n",
       "    <tr>\n",
       "      <th>2</th>\n",
       "      <td>100005</td>\n",
       "      <td>True</td>\n",
       "      <td>149</td>\n",
       "    </tr>\n",
       "    <tr>\n",
       "      <th>3</th>\n",
       "      <td>300007</td>\n",
       "      <td>True</td>\n",
       "      <td>107</td>\n",
       "    </tr>\n",
       "    <tr>\n",
       "      <th>4</th>\n",
       "      <td>200002</td>\n",
       "      <td>False</td>\n",
       "      <td>339</td>\n",
       "    </tr>\n",
       "  </tbody>\n",
       "</table>\n",
       "</div>"
      ],
      "text/plain": [
       "   userId  churn  artistcount\n",
       "0      19  False          197\n",
       "1  200007  False           64\n",
       "2  100005   True          149\n",
       "3  300007   True          107\n",
       "4  200002  False          339"
      ]
     },
     "execution_count": 34,
     "metadata": {},
     "output_type": "execute_result"
    }
   ],
   "source": [
    "# 2.7 每个用户听过的歌手的数量（去重）\n",
    "artist_df = df_churn.select('userId', 'artist', 'churn').dropDuplicates() \\\n",
    "        .filter(df_churn['page'] == 'NextSong') \\\n",
    "        .groupby('userId', 'churn').count() \\\n",
    "        .withColumnRenamed('count', 'artistcount') \\\n",
    "        .toPandas()\n",
    "\n",
    "artist_df.head()"
   ]
  },
  {
   "cell_type": "code",
   "execution_count": 35,
   "metadata": {},
   "outputs": [
    {
     "data": {
      "image/png": "[encoded data removed]",
      "text/plain": [
       "<Figure size 432x288 with 1 Axes>"
      ]
     },
     "metadata": {
      "needs_background": "light"
     },
     "output_type": "display_data"
    }
   ],
   "source": [
    "ax = sb.boxplot(data=artist_df, x='churn', y='artistcount')\n",
    "plt.xlabel('是否流失', fontsize=10)\n",
    "plt.ylabel('歌手数量', fontsize=10)\n",
    "plt.title('留存用户 vs. 流失用户（歌手数量）', fontsize=14)\n",
    "plt.show()"
   ]
  },
  {
   "cell_type": "markdown",
   "metadata": {},
   "source": [
    "# 特征工程\n",
    "熟悉了数据之后，就可以构建你认为会对训练模型帮助最大的特征。要处理完整数据集，你可以按照下述步骤：\n",
    "- 写一个脚本来从小数据集中提取你需要的特征\n",
    "- 确保你的脚本可以拓展到大数据集上，使用之前教过的最佳实践原则\n",
    "- 在完整数据集上运行你的脚本，按运行情况调试代码\n",
    "\n",
    "如果是在教室的 workspace，你可以直接用里面提供的小数据集来提取特征。确保当你开始使用 Spark 集群的时候，把上述的成果迁移到大数据集上。"
   ]
  },
  {
   "cell_type": "markdown",
   "metadata": {},
   "source": [
    "在上面的探索性分析后，决定选取以下特征，共有10个。\n",
    "- churn：是否流失，1: 流失，0: 未流失\n",
    "- gender：性别，1: male，0: female\n",
    "- friendcount：加好友次数\n",
    "- playlistcount：加播放列表次数\n",
    "- advertcount：看到广告次数\n",
    "- upcount：喜欢的次数\n",
    "- downcount：不喜欢的次数\n",
    "- lifetime：注册到最后一次记录的天数\n",
    "- avg_songs：平均每个 session 听多少首歌\n",
    "- artistcount：用户听过的歌曲的歌手数量（去重）"
   ]
  },
  {
   "cell_type": "code",
   "execution_count": 36,
   "metadata": {},
   "outputs": [
    {
     "data": {
      "text/plain": [
       "Row(artist='Martha Tilston', auth='Logged In', firstName='Colin', gender='M', itemInSession=50, lastName='Freeman', length=277.89016, level='paid', location='Bakersfield, CA', method='PUT', page='NextSong', registration=1538173362000, sessionId=29, song='Rockpools', status=200, ts=1538352117000, userAgent='Mozilla/5.0 (Windows NT 6.1; WOW64; rv:31.0) Gecko/20100101 Firefox/31.0', userId='30', churn=False)"
      ]
     },
     "execution_count": 36,
     "metadata": {},
     "output_type": "execute_result"
    }
   ],
   "source": [
    "df_churn.head()"
   ]
  },
  {
   "cell_type": "code",
   "execution_count": 37,
   "metadata": {},
   "outputs": [
    {
     "name": "stdout",
     "output_type": "stream",
     "text": [
      "+------+-----+\n",
      "|userId|churn|\n",
      "+------+-----+\n",
      "|    19|    0|\n",
      "|100005|    1|\n",
      "|200007|    0|\n",
      "|300007|    1|\n",
      "|    50|    0|\n",
      "+------+-----+\n",
      "only showing top 5 rows\n",
      "\n"
     ]
    }
   ],
   "source": [
    "f1_churn = df_churn.select('userId', 'churn').dropDuplicates() \\\n",
    "        .replace(['False', 'True'], ['0', '1'], 'churn') \\\n",
    "        .select('userId', col('churn').cast('int'))\n",
    "\n",
    "f1_churn.show(5)"
   ]
  },
  {
   "cell_type": "code",
   "execution_count": 38,
   "metadata": {},
   "outputs": [
    {
     "name": "stdout",
     "output_type": "stream",
     "text": [
      "+------+------+\n",
      "|userId|gender|\n",
      "+------+------+\n",
      "|    44|     0|\n",
      "|    46|     0|\n",
      "|    41|     0|\n",
      "|    72|     0|\n",
      "|300023|     0|\n",
      "+------+------+\n",
      "only showing top 5 rows\n",
      "\n"
     ]
    }
   ],
   "source": [
    "f2_gender = df_churn.select('userId', 'gender').dropDuplicates() \\\n",
    "        .replace(['F', 'M'], ['0', '1'], 'gender') \\\n",
    "        .select('userId', col('gender').cast('int'))\n",
    "\n",
    "f2_gender.show(5)"
   ]
  },
  {
   "cell_type": "code",
   "execution_count": 83,
   "metadata": {},
   "outputs": [
    {
     "name": "stdout",
     "output_type": "stream",
     "text": [
      "+------+-----------+\n",
      "|userId|friendcount|\n",
      "+------+-----------+\n",
      "|100010|          4|\n",
      "|200002|          4|\n",
      "|    51|         28|\n",
      "|   124|         74|\n",
      "|     7|          1|\n",
      "+------+-----------+\n",
      "only showing top 5 rows\n",
      "\n"
     ]
    }
   ],
   "source": [
    "f3_friendcount = df_churn.select('userId', 'page') \\\n",
    "        .where(df_churn['page'] == 'Add Friend') \\\n",
    "        .groupBy('userId') \\\n",
    "        .count() \\\n",
    "        .withColumnRenamed('count', 'friendcount')\n",
    "\n",
    "f3_friendcount.show(5)"
   ]
  },
  {
   "cell_type": "code",
   "execution_count": 84,
   "metadata": {},
   "outputs": [
    {
     "name": "stdout",
     "output_type": "stream",
     "text": [
      "+------+-------------+\n",
      "|userId|playlistcount|\n",
      "+------+-------------+\n",
      "|100010|            7|\n",
      "|200002|            8|\n",
      "|    51|           52|\n",
      "|   124|          118|\n",
      "|     7|            5|\n",
      "+------+-------------+\n",
      "only showing top 5 rows\n",
      "\n"
     ]
    }
   ],
   "source": [
    "f4_playlistcount = df_churn.select('userId', 'page') \\\n",
    "        .where(df_churn['page'] == 'Add to Playlist') \\\n",
    "        .groupBy('userId') \\\n",
    "        .count() \\\n",
    "        .withColumnRenamed('count', 'playlistcount')\n",
    "\n",
    "f4_playlistcount.show(5)"
   ]
  },
  {
   "cell_type": "code",
   "execution_count": 85,
   "metadata": {},
   "outputs": [
    {
     "name": "stdout",
     "output_type": "stream",
     "text": [
      "+------+-----------+\n",
      "|userId|advertcount|\n",
      "+------+-----------+\n",
      "|100010|         52|\n",
      "|200002|          7|\n",
      "|   125|          1|\n",
      "|     7|         16|\n",
      "|   124|          4|\n",
      "+------+-----------+\n",
      "only showing top 5 rows\n",
      "\n"
     ]
    }
   ],
   "source": [
    "f5_advertcount = df_churn.select('userId', 'page') \\\n",
    "        .where(df_churn['page'] == 'Roll Advert') \\\n",
    "        .groupBy('userId') \\\n",
    "        .count() \\\n",
    "        .withColumnRenamed('count', 'advertcount')\n",
    "\n",
    "f5_advertcount.show(5)"
   ]
  },
  {
   "cell_type": "code",
   "execution_count": 86,
   "metadata": {},
   "outputs": [
    {
     "name": "stdout",
     "output_type": "stream",
     "text": [
      "+------+-------+\n",
      "|userId|upcount|\n",
      "+------+-------+\n",
      "|100010|     17|\n",
      "|200002|     21|\n",
      "|    51|    100|\n",
      "|   124|    171|\n",
      "|     7|      7|\n",
      "+------+-------+\n",
      "only showing top 5 rows\n",
      "\n"
     ]
    }
   ],
   "source": [
    "f6_upcount = df_churn.select('userId', 'page') \\\n",
    "        .where(df_churn['page'] == 'Thumbs Up') \\\n",
    "        .groupBy('userId') \\\n",
    "        .count() \\\n",
    "        .withColumnRenamed('count', 'upcount')\n",
    "\n",
    "f6_upcount.show(5)"
   ]
  },
  {
   "cell_type": "code",
   "execution_count": 87,
   "metadata": {},
   "outputs": [
    {
     "name": "stdout",
     "output_type": "stream",
     "text": [
      "+------+---------+\n",
      "|userId|downcount|\n",
      "+------+---------+\n",
      "|100010|        5|\n",
      "|200002|        6|\n",
      "|    51|       21|\n",
      "|   124|       41|\n",
      "|     7|        1|\n",
      "+------+---------+\n",
      "only showing top 5 rows\n",
      "\n"
     ]
    }
   ],
   "source": [
    "f7_downcount = df_churn.select('userId', 'page') \\\n",
    "        .where(df_churn['page'] == 'Thumbs Down') \\\n",
    "        .groupBy('userId') \\\n",
    "        .count() \\\n",
    "        .withColumnRenamed('count', 'downcount')\n",
    "\n",
    "f7_downcount.show(5)"
   ]
  },
  {
   "cell_type": "code",
   "execution_count": 88,
   "metadata": {},
   "outputs": [
    {
     "name": "stdout",
     "output_type": "stream",
     "text": [
      "+------+------------------+\n",
      "|userId|          lifetime|\n",
      "+------+------------------+\n",
      "|100010| 55.64365740740741|\n",
      "|200002| 70.07462962962963|\n",
      "|   125| 71.31688657407408|\n",
      "|    51|19.455844907407407|\n",
      "|   124|131.55591435185184|\n",
      "+------+------------------+\n",
      "only showing top 5 rows\n",
      "\n"
     ]
    }
   ],
   "source": [
    "f8_lifetime = df_churn.select('userId', 'registration', 'ts') \\\n",
    "        .withColumn('lifetime', (df_churn['ts']-df_churn['registration'])) \\\n",
    "        .groupBy('userId') \\\n",
    "        .agg({'lifetime':'max'}) \\\n",
    "        .withColumnRenamed('max(lifetime)', 'lifetime') \\\n",
    "        .select('userId', (col('lifetime')/(1000*3600*24)).alias('lifetime'))\n",
    "\n",
    "f8_lifetime.show(5)"
   ]
  },
  {
   "cell_type": "code",
   "execution_count": 89,
   "metadata": {},
   "outputs": [
    {
     "name": "stdout",
     "output_type": "stream",
     "text": [
      "+------+------------------+\n",
      "|userId|          avgsongs|\n",
      "+------+------------------+\n",
      "|100010|39.285714285714285|\n",
      "|200002|              64.5|\n",
      "|   125|               8.0|\n",
      "|    51|             211.1|\n",
      "|   124|145.67857142857142|\n",
      "+------+------------------+\n",
      "only showing top 5 rows\n",
      "\n"
     ]
    }
   ],
   "source": [
    "f9_avgsongs = df_churn.select('userID', 'sessionId', 'page') \\\n",
    "            .filter(df_churn['page'] == 'NextSong') \\\n",
    "            .groupby('userId', 'sessionId') \\\n",
    "            .agg({'page': 'count'}) \\\n",
    "            .groupby('userId') \\\n",
    "            .agg({'count(page)': 'avg'}) \\\n",
    "            .withColumnRenamed('avg(count(page))', 'avgsongs') \n",
    "\n",
    "f9_avgsongs.show(5)"
   ]
  },
  {
   "cell_type": "code",
   "execution_count": 90,
   "metadata": {},
   "outputs": [
    {
     "name": "stdout",
     "output_type": "stream",
     "text": [
      "+------+-----------+\n",
      "|userId|artistcount|\n",
      "+------+-----------+\n",
      "|100010|        252|\n",
      "|200002|        339|\n",
      "|   125|          8|\n",
      "|   124|       2232|\n",
      "|    51|       1385|\n",
      "+------+-----------+\n",
      "only showing top 5 rows\n",
      "\n"
     ]
    }
   ],
   "source": [
    "f10_artistcount = df_churn.select('userId', 'artist').dropDuplicates() \\\n",
    "        .filter(df_churn['page'] == 'NextSong') \\\n",
    "        .groupby('userId').count() \\\n",
    "        .withColumnRenamed('count', 'artistcount') \\\n",
    "\n",
    "f10_artistcount.show(5)"
   ]
  },
  {
   "cell_type": "code",
   "execution_count": 93,
   "metadata": {},
   "outputs": [
    {
     "data": {
      "text/plain": [
       "Row(churn=0, gender=0, friendcount=4, playlistcount=7, advertcount=52, upcount=17, downcount=5, lifetime=55.64365740740741, avgsongs=39.285714285714285, artistcount=252)"
      ]
     },
     "execution_count": 93,
     "metadata": {},
     "output_type": "execute_result"
    }
   ],
   "source": [
    "df_all = f1_churn.join(f2_gender, ['userId']) \\\n",
    "    .join(f3_friendcount, ['userId']) \\\n",
    "    .join(f4_playlistcount, ['userId']) \\\n",
    "    .join(f5_advertcount, ['userId']) \\\n",
    "    .join(f6_upcount, ['userId']) \\\n",
    "    .join(f7_downcount, ['userId']) \\\n",
    "    .join(f8_lifetime, ['userId']) \\\n",
    "    .join(f9_avgsongs, ['userId']) \\\n",
    "    .join(f10_artistcount, ['userId']) \\\n",
    "    .drop('userId') \\\n",
    "    .fillna(0)\n",
    "\n",
    "df_all.head()"
   ]
  },
  {
   "cell_type": "markdown",
   "metadata": {},
   "source": [
    "# 建模\n",
    "将完整数据集分成训练集、测试集和验证集。测试几种你学过的机器学习方法。评价不同机器学习方法的准确率，根据情况调节参数。根据准确率你挑选出表现最好的那个模型，然后报告在训练集上的结果。因为流失顾客数据集很小，我建议选用 F1 score 作为优化指标。"
   ]
  },
  {
   "cell_type": "code",
   "execution_count": 95,
   "metadata": {},
   "outputs": [
    {
     "data": {
      "text/plain": [
       "Row(churn=0, gender=0, friendcount=4, playlistcount=7, advertcount=52, upcount=17, downcount=5, lifetime=55.64365740740741, avgsongs=39.285714285714285, artistcount=252, NumFeatures=DenseVector([0.0, 4.0, 7.0, 52.0, 17.0, 5.0, 55.6437, 39.2857, 252.0]))"
      ]
     },
     "execution_count": 95,
     "metadata": {},
     "output_type": "execute_result"
    }
   ],
   "source": [
    "# 向量化\n",
    "cols = ['gender', 'friendcount', 'playlistcount', 'advertcount', \n",
    "        'upcount', 'downcount', 'lifetime', 'avgsongs', 'artistcount']\n",
    "assembler = VectorAssembler(inputCols=cols, outputCol='NumFeatures')\n",
    "data = assembler.transform(df_all)\n",
    "data.head()"
   ]
  },
  {
   "cell_type": "code",
   "execution_count": 96,
   "metadata": {},
   "outputs": [
    {
     "data": {
      "text/plain": [
       "Row(churn=0, gender=0, friendcount=4, playlistcount=7, advertcount=52, upcount=17, downcount=5, lifetime=55.64365740740741, avgsongs=39.285714285714285, artistcount=252, NumFeatures=DenseVector([0.0, 4.0, 7.0, 52.0, 17.0, 5.0, 55.6437, 39.2857, 252.0]), features=DenseVector([0.0, 0.1875, 0.2052, 2.2765, 0.2472, 0.3681, 1.4951, 1.0053, 0.4191]))"
      ]
     },
     "execution_count": 96,
     "metadata": {},
     "output_type": "execute_result"
    }
   ],
   "source": [
    "# 标准化\n",
    "scaler = StandardScaler(inputCol='NumFeatures', outputCol='features', withStd=True)\n",
    "scalerModel = scaler.fit(data)\n",
    "data = scalerModel.transform(data)\n",
    "data.head()"
   ]
  },
  {
   "cell_type": "code",
   "execution_count": 97,
   "metadata": {},
   "outputs": [
    {
     "data": {
      "text/plain": [
       "Row(label=0, features=DenseVector([0.0, 0.1875, 0.2052, 2.2765, 0.2472, 0.3681, 1.4951, 1.0053, 0.4191]))"
      ]
     },
     "execution_count": 97,
     "metadata": {},
     "output_type": "execute_result"
    }
   ],
   "source": [
    "data_model = data.select(data['churn'].alias('label'), data['features'])\n",
    "data_model.head()"
   ]
  },
  {
   "cell_type": "markdown",
   "metadata": {},
   "source": [
    "### 将数据集分成训练集、测试集和验证集"
   ]
  },
  {
   "cell_type": "code",
   "execution_count": 98,
   "metadata": {},
   "outputs": [],
   "source": [
    "# 训练集：测试集：验证集 = 60%：20%：20%\n",
    "train, rest = data_model.randomSplit([0.6, 0.4], seed=42)\n",
    "test, validation = rest.randomSplit([0.5, 0.5], seed=42)"
   ]
  },
  {
   "cell_type": "markdown",
   "metadata": {},
   "source": [
    "### 建模\n",
    "在 Spark 支持的分类算法中选择 Logistic Regression、Gradient Boosted Tree 和 Random Forest 建模。\n",
    "\n",
    "- Logistic Regression：选择该算法是因为它实施起来简单（线性），但是效果一般也不会太差。\n",
    "- Gradient Boosted Tree：应用广泛，拟合效果好，结果有解释性。\n",
    "- Random Forest：也是基于决策树的模型，可以应用在大数据集上。\n",
    "\n",
    "下面先针对这两个算法分别建模，然后选择效果好的算法调参，得到最优的模型。"
   ]
  },
  {
   "cell_type": "code",
   "execution_count": 99,
   "metadata": {},
   "outputs": [],
   "source": [
    "# 因为流失顾客数据集很小，所以选用 F1 score 作为优化指标。\n",
    "f1_score = MulticlassClassificationEvaluator(metricName='f1')"
   ]
  },
  {
   "cell_type": "markdown",
   "metadata": {},
   "source": [
    "#### Logistic Regression"
   ]
  },
  {
   "cell_type": "code",
   "execution_count": 100,
   "metadata": {},
   "outputs": [],
   "source": [
    "lr = LogisticRegression(maxIter=10, regParam=0.0, elasticNetParam=0)"
   ]
  },
  {
   "cell_type": "code",
   "execution_count": 101,
   "metadata": {},
   "outputs": [],
   "source": [
    "# build paramGrid\n",
    "paramGrid = ParamGridBuilder().build()\n",
    "\n",
    "crossval_lr = CrossValidator(estimator=lr, estimatorParamMaps=paramGrid, evaluator=f1_score, numFolds=3)"
   ]
  },
  {
   "cell_type": "code",
   "execution_count": 102,
   "metadata": {},
   "outputs": [],
   "source": [
    "lrModel = crossval_lr.fit(train)"
   ]
  },
  {
   "cell_type": "code",
   "execution_count": 116,
   "metadata": {},
   "outputs": [
    {
     "name": "stdout",
     "output_type": "stream",
     "text": [
      "Logistic Regression:\n",
      "Accuracy: 0.375\n",
      "F1 Score: 0.34523809523809523\n"
     ]
    }
   ],
   "source": [
    "lrtest = lrModel.transform(test)\n",
    "\n",
    "evaluator = MulticlassClassificationEvaluator(predictionCol='prediction')\n",
    "print('Logistic Regression:')\n",
    "print('Accuracy: {}'.format(evaluator.evaluate(lrtest, {evaluator.metricName: 'accuracy'})))\n",
    "print('F1 Score: {}'.format(evaluator.evaluate(lrtest, {evaluator.metricName: 'f1'})))"
   ]
  },
  {
   "cell_type": "markdown",
   "metadata": {},
   "source": [
    "#### Gradient Boosted Tree"
   ]
  },
  {
   "cell_type": "code",
   "execution_count": 104,
   "metadata": {},
   "outputs": [],
   "source": [
    "gbt = GBTClassifier(seed=42)"
   ]
  },
  {
   "cell_type": "code",
   "execution_count": 105,
   "metadata": {},
   "outputs": [],
   "source": [
    "crossval_gbt = CrossValidator(estimator=gbt, estimatorParamMaps=paramGrid, evaluator=f1_score, numFolds=3)"
   ]
  },
  {
   "cell_type": "code",
   "execution_count": 106,
   "metadata": {},
   "outputs": [],
   "source": [
    "gbtModel = crossval_gbt.fit(train)"
   ]
  },
  {
   "cell_type": "code",
   "execution_count": 107,
   "metadata": {},
   "outputs": [],
   "source": [
    "gbttest = gbtModel.transform(test)"
   ]
  },
  {
   "cell_type": "code",
   "execution_count": 108,
   "metadata": {},
   "outputs": [
    {
     "name": "stdout",
     "output_type": "stream",
     "text": [
      "Gradient Boosted Tree:\n",
      "Accuracy: 0.625\n",
      "F1 Score: 0.6071428571428572\n"
     ]
    }
   ],
   "source": [
    "evaluator = MulticlassClassificationEvaluator(predictionCol='prediction')\n",
    "print('Gradient Boosted Tree:')\n",
    "print('Accuracy: {}'.format(evaluator.evaluate(gbttest, {evaluator.metricName: 'accuracy'})))\n",
    "print('F1 Score: {}'.format(evaluator.evaluate(gbttest, {evaluator.metricName: 'f1'})))"
   ]
  },
  {
   "cell_type": "markdown",
   "metadata": {},
   "source": [
    "#### Random Forest"
   ]
  },
  {
   "cell_type": "code",
   "execution_count": 109,
   "metadata": {},
   "outputs": [],
   "source": [
    "rf = RandomForestClassifier(seed=42)\n",
    "crossval_rf = CrossValidator(estimator=rf, estimatorParamMaps=paramGrid, evaluator=f1_score, numFolds=3)\n",
    "\n",
    "rfModel = crossval_rf.fit(train)"
   ]
  },
  {
   "cell_type": "code",
   "execution_count": 117,
   "metadata": {},
   "outputs": [
    {
     "name": "stdout",
     "output_type": "stream",
     "text": [
      "Random Forest:\n",
      "Accuracy: 0.5\n",
      "F1 Score: 0.43333333333333335\n"
     ]
    }
   ],
   "source": [
    "rftest = rfModel.transform(test)\n",
    "\n",
    "evaluator = MulticlassClassificationEvaluator(predictionCol='prediction')\n",
    "print('Random Forest:')\n",
    "print('Accuracy: {}'.format(evaluator.evaluate(rftest, {evaluator.metricName: 'accuracy'})))\n",
    "print('F1 Score: {}'.format(evaluator.evaluate(rftest, {evaluator.metricName: 'f1'})))"
   ]
  },
  {
   "cell_type": "markdown",
   "metadata": {},
   "source": [
    "- Gradient Boosted Tree 的效果最好，F1 score 为 0.607。所以下面调参的时候选用该模型。"
   ]
  },
  {
   "cell_type": "markdown",
   "metadata": {},
   "source": [
    "#### 调参"
   ]
  },
  {
   "cell_type": "code",
   "execution_count": 111,
   "metadata": {},
   "outputs": [],
   "source": [
    "gbt = GBTClassifier(seed=42)\n",
    "\n",
    "# build paramGrid\n",
    "paramGrid_gbt = ParamGridBuilder() \\\n",
    "    .addGrid(gbt.maxDepth,[4, 5]) \\\n",
    "    .addGrid(gbt.maxIter,[10, 15]) \\\n",
    "    .build()\n",
    "\n",
    "crossval_tuned = CrossValidator(estimator=gbt, estimatorParamMaps=paramGrid_gbt, evaluator=f1_score, numFolds=3)"
   ]
  },
  {
   "cell_type": "code",
   "execution_count": 112,
   "metadata": {},
   "outputs": [
    {
     "data": {
      "text/plain": [
       "[0.7425934604347453,\n",
       " 0.7425934604347453,\n",
       " 0.7195741194053634,\n",
       " 0.7195741194053634]"
      ]
     },
     "execution_count": 112,
     "metadata": {},
     "output_type": "execute_result"
    }
   ],
   "source": [
    "Model_tuned = crossval_tuned.fit(train)\n",
    "Model_tuned.avgMetrics"
   ]
  },
  {
   "cell_type": "code",
   "execution_count": 113,
   "metadata": {},
   "outputs": [],
   "source": [
    "# 最好的模型\n",
    "gbt_best = GBTClassifier(seed=42, maxDepth=4, maxIter=10)\n",
    "gbt_best_model = gbt_best.fit(train)\n",
    "gbt_best_result = gbt_best_model.transform(validation)"
   ]
  },
  {
   "cell_type": "code",
   "execution_count": 114,
   "metadata": {},
   "outputs": [
    {
     "name": "stdout",
     "output_type": "stream",
     "text": [
      "Best Model:\n",
      "Accuracy: 0.8125\n",
      "F1 Score: 0.8173214285714285\n"
     ]
    }
   ],
   "source": [
    "evaluator = MulticlassClassificationEvaluator(predictionCol='prediction')\n",
    "print('Best Model:')\n",
    "print('Accuracy: {}'.format(evaluator.evaluate(gbt_best_result, {evaluator.metricName: 'accuracy'})))\n",
    "print('F1 Score: {}'.format(evaluator.evaluate(gbt_best_result, {evaluator.metricName: 'f1'})))"
   ]
  },
  {
   "cell_type": "code",
   "execution_count": 115,
   "metadata": {},
   "outputs": [
    {
     "data": {
      "image/png": "[encoded data removed]",
      "text/plain": [
       "<Figure size 432x288 with 1 Axes>"
      ]
     },
     "metadata": {
      "needs_background": "light"
     },
     "output_type": "display_data"
    }
   ],
   "source": [
    "# 特征重要性\n",
    "importances = gbt_best_model.featureImportances.values\n",
    "cols = ['gender', 'friendcount', 'playlistcount', 'advertcount', \n",
    "        'upcount', 'downcount', 'lifetime', 'avgsongs', 'artistcount']\n",
    "y = np.arange(len(cols))\n",
    " \n",
    "plt.barh(y, importances, align='center')\n",
    "plt.yticks(y, cols)\n",
    "plt.xlabel('Importance Score')\n",
    "plt.title('GBT Feature Importances');"
   ]
  },
  {
   "cell_type": "markdown",
   "metadata": {},
   "source": [
    "从图上看，“用户的留存时间”和“朋友数量”是比较重要的特征。“朋友数量”这个特征说明了社交圈对于一个APP用户的留存有影响。所以，有些应用会和社交APP合作，使用第三方的社交账号登陆应用，可能也有这方面的好处。"
   ]
  },
  {
   "cell_type": "markdown",
   "metadata": {},
   "source": [
    "# 最后一步\n",
    "清理你的代码，添加注释和重命名变量，使得代码更易读和易于维护。参考 Spark 项目概述页面和数据科学家毕业项目审阅要求，确保你的项目包含了毕业项目要求的所有内容，并且满足所有审阅要求。记得在 GitHub 代码库里包含一份全面的文档——README文件，以及一个网络应用程序或博客文章。"
   ]
  },
  {
   "cell_type": "code",
   "execution_count": null,
   "metadata": {},
   "outputs": [],
   "source": []
  }
 ],
 "metadata": {
  "kernelspec": {
   "display_name": "Python 3",
   "language": "python",
   "name": "python3"
  },
  "language_info": {
   "codemirror_mode": {
    "name": "ipython",
    "version": 3
   },
   "file_extension": ".py",
   "mimetype": "text/x-python",
   "name": "python",
   "nbconvert_exporter": "python",
   "pygments_lexer": "ipython3",
   "version": "3.7.7"
  }
 },
 "nbformat": 4,
 "nbformat_minor": 2
}
