{
 "cells": [
  {
   "cell_type": "code",
   "execution_count": 1,
   "metadata": {},
   "outputs": [
    {
     "name": "stdout",
     "output_type": "stream",
     "text": [
      "Waiting for a Spark session to start...\n",
      "Spark Initialization Done! ApplicationId = app-20200519065406-0000\n",
      "KERNEL_ID = 6e04bda4-9117-4e6f-9444-00042f720311\n"
     ]
    },
    {
     "data": {
      "text/plain": [
       "[Row(artist='Martin Orford', auth='Logged In', firstName='Joseph', gender='M', itemInSession=20, lastName='Morales', length=597.55057, level='free', location='Corpus Christi, TX', method='PUT', page='NextSong', registration=1532063507000, sessionId=292, song='Grand Designs', status=200, ts=1538352011000, userAgent='\"Mozilla/5.0 (Macintosh; Intel Mac OS X 10_9_4) AppleWebKit/537.36 (KHTML, like Gecko) Chrome/36.0.1985.125 Safari/537.36\"', userId='293'),\n",
       " Row(artist=\"John Brown's Body\", auth='Logged In', firstName='Sawyer', gender='M', itemInSession=74, lastName='Larson', length=380.21179, level='free', location='Houston-The Woodlands-Sugar Land, TX', method='PUT', page='NextSong', registration=1538069638000, sessionId=97, song='Bulls', status=200, ts=1538352025000, userAgent='\"Mozilla/5.0 (Macintosh; Intel Mac OS X 10_9_4) AppleWebKit/537.36 (KHTML, like Gecko) Chrome/36.0.1985.143 Safari/537.36\"', userId='98'),\n",
       " Row(artist='Afroman', auth='Logged In', firstName='Maverick', gender='M', itemInSession=184, lastName='Santiago', length=202.37016, level='paid', location='Orlando-Kissimmee-Sanford, FL', method='PUT', page='NextSong', registration=1535953455000, sessionId=178, song='Because I Got High', status=200, ts=1538352118000, userAgent='\"Mozilla/5.0 (Macintosh; Intel Mac OS X 10_9_4) AppleWebKit/537.36 (KHTML, like Gecko) Chrome/36.0.1985.143 Safari/537.36\"', userId='179'),\n",
       " Row(artist=None, auth='Logged In', firstName='Maverick', gender='M', itemInSession=185, lastName='Santiago', length=None, level='paid', location='Orlando-Kissimmee-Sanford, FL', method='PUT', page='Logout', registration=1535953455000, sessionId=178, song=None, status=307, ts=1538352119000, userAgent='\"Mozilla/5.0 (Macintosh; Intel Mac OS X 10_9_4) AppleWebKit/537.36 (KHTML, like Gecko) Chrome/36.0.1985.143 Safari/537.36\"', userId='179'),\n",
       " Row(artist='Lily Allen', auth='Logged In', firstName='Gianna', gender='F', itemInSession=22, lastName='Campos', length=194.53342, level='paid', location='Mobile, AL', method='PUT', page='NextSong', registration=1535931018000, sessionId=245, song='Smile (Radio Edit)', status=200, ts=1538352124000, userAgent='Mozilla/5.0 (Windows NT 6.1; WOW64; rv:31.0) Gecko/20100101 Firefox/31.0', userId='246')]"
      ]
     },
     "execution_count": 1,
     "metadata": {},
     "output_type": "execute_result"
    }
   ],
   "source": [
    "import ibmos2spark\n",
    "# @hidden_cell\n",
    "credentials = {\n",
    "    'endpoint': 'https://s3.ap-geo.objectstorage.service.networklayer.com',\n",
    "    'service_id': 'iam-ServiceId-9e5e9f8c-d066-4693-9fce-785387bcd8a9',\n",
    "    'iam_service_endpoint': 'https://iam.au-syd.bluemix.net/oidc/token',\n",
    "    'api_key': 'y2cJc2kp6oC9-8nRjST7QSpQVfegeT7CQVJ9HgxlH4Xj'\n",
    "}\n",
    "\n",
    "configuration_name = 'os_c5c58bffb2ab446da9cecf8e565dad16_configs'\n",
    "cos = ibmos2spark.CloudObjectStorage(sc, credentials, configuration_name, 'bluemix_cos')\n",
    "\n",
    "from pyspark.sql import SparkSession\n",
    "spark = SparkSession.builder.getOrCreate()\n",
    "# Since JSON data can be semi-structured and contain additional metadata, it is possible that you might face issues with the DataFrame layout.\n",
    "# Please read the documentation of 'SparkSession.read()' to learn more about the possibilities to adjust the data loading.\n",
    "# PySpark documentation: http://spark.apache.org/docs/2.0.2/api/python/pyspark.sql.html#pyspark.sql.DataFrameReader.json\n",
    "\n",
    "df_data_1 = spark.read.json(cos.url('medium-sparkify-event-data.json', 'sparkify-donotdelete-pr-k9aqgzen9efvfi'))\n",
    "df_data_1.take(5)"
   ]
  },
  {
   "cell_type": "code",
   "execution_count": 2,
   "metadata": {},
   "outputs": [],
   "source": [
    "# import libraries\n",
    "from pyspark.sql import SparkSession\n",
    "from pyspark.sql.functions import isnan, count, when, avg, col, concat, desc, sort_array, asc, min, max, split, udf\n",
    "from pyspark.sql.functions import sum as Fsum\n",
    "from pyspark.sql.types import IntegerType\n",
    "\n",
    "from pyspark.ml import Pipeline\n",
    "from pyspark.ml.classification import LogisticRegression, RandomForestClassifier, GBTClassifier\n",
    "from pyspark.ml.evaluation import MulticlassClassificationEvaluator\n",
    "from pyspark.ml.feature import CountVectorizer, Normalizer, StandardScaler, VectorAssembler\n",
    "from pyspark.ml.tuning import CrossValidator, ParamGridBuilder\n",
    "\n",
    "import datetime\n",
    "\n",
    "import numpy as np\n",
    "import pandas as pd\n",
    "import matplotlib.pyplot as plt\n",
    "import seaborn as sb\n",
    "%matplotlib inline"
   ]
  },
  {
   "cell_type": "markdown",
   "metadata": {},
   "source": [
    "# 1. 处理数据"
   ]
  },
  {
   "cell_type": "markdown",
   "metadata": {},
   "source": [
    "## 处理缺失值"
   ]
  },
  {
   "cell_type": "code",
   "execution_count": 3,
   "metadata": {},
   "outputs": [
    {
     "data": {
      "text/plain": [
       "543705"
      ]
     },
     "execution_count": 3,
     "metadata": {},
     "output_type": "execute_result"
    }
   ],
   "source": [
    "df_data_1.count()"
   ]
  },
  {
   "cell_type": "code",
   "execution_count": 4,
   "metadata": {},
   "outputs": [
    {
     "data": {
      "text/plain": [
       "543705"
      ]
     },
     "execution_count": 4,
     "metadata": {},
     "output_type": "execute_result"
    }
   ],
   "source": [
    "df = df_data_1.dropna(how = 'any', subset = ['userId', 'sessionId'])\n",
    "df.count()"
   ]
  },
  {
   "cell_type": "code",
   "execution_count": 5,
   "metadata": {},
   "outputs": [
    {
     "name": "stdout",
     "output_type": "stream",
     "text": [
      "+------+\n",
      "|userId|\n",
      "+------+\n",
      "|      |\n",
      "|    10|\n",
      "|   100|\n",
      "|100001|\n",
      "|100002|\n",
      "+------+\n",
      "only showing top 5 rows\n",
      "\n"
     ]
    }
   ],
   "source": [
    "df.select('userId').dropDuplicates().sort('userId').show(5)"
   ]
  },
  {
   "cell_type": "markdown",
   "metadata": {},
   "source": [
    "- 有些 userId 是空字符串。userId 为空字符串的原因可能有：未注册的用户、未登录账号的用户。"
   ]
  },
  {
   "cell_type": "code",
   "execution_count": 6,
   "metadata": {},
   "outputs": [
    {
     "data": {
      "text/plain": [
       "528005"
      ]
     },
     "execution_count": 6,
     "metadata": {},
     "output_type": "execute_result"
    }
   ],
   "source": [
    "# 去掉 userId 为空字符串的记录\n",
    "df = df.filter(df['userId'] != '')\n",
    "df.count()"
   ]
  },
  {
   "cell_type": "markdown",
   "metadata": {},
   "source": [
    "- 另外，用户在不同的页面上会有不同的记录，比如在听歌的时候会有歌手信息、歌曲时长等，而在访问首页、修改设置的时候不会有歌手信息等记录。所以对于 artist 等字段，值为 None 是合理的，不是缺失值。"
   ]
  },
  {
   "cell_type": "markdown",
   "metadata": {},
   "source": [
    "## 定义客户流失\n",
    "\n",
    "创建一列 `Churn` 作为模型的标签。使用 `Cancellation Confirmation` 事件来定义客户流失。"
   ]
  },
  {
   "cell_type": "code",
   "execution_count": 7,
   "metadata": {},
   "outputs": [
    {
     "data": {
      "text/plain": [
       "[Row(page='Cancel', count=99),\n",
       " Row(page='Submit Downgrade', count=117),\n",
       " Row(page='Thumbs Down', count=4911),\n",
       " Row(page='Home', count=19089),\n",
       " Row(page='Downgrade', count=3811),\n",
       " Row(page='Roll Advert', count=7773),\n",
       " Row(page='Logout', count=5990),\n",
       " Row(page='Save Settings', count=585),\n",
       " Row(page='Cancellation Confirmation', count=99),\n",
       " Row(page='About', count=1026),\n",
       " Row(page='Settings', count=2964),\n",
       " Row(page='Add to Playlist', count=12349),\n",
       " Row(page='Add Friend', count=8087),\n",
       " Row(page='NextSong', count=432877),\n",
       " Row(page='Thumbs Up', count=23826),\n",
       " Row(page='Help', count=2644),\n",
       " Row(page='Upgrade', count=968),\n",
       " Row(page='Error', count=503),\n",
       " Row(page='Submit Upgrade', count=287)]"
      ]
     },
     "execution_count": 7,
     "metadata": {},
     "output_type": "execute_result"
    }
   ],
   "source": [
    "# page 的可能取值\n",
    "df.groupBy('page').count().collect()"
   ]
  },
  {
   "cell_type": "code",
   "execution_count": 8,
   "metadata": {},
   "outputs": [
    {
     "data": {
      "text/plain": [
       "['100010', '200002', '296', '51', '124']"
      ]
     },
     "execution_count": 8,
     "metadata": {},
     "output_type": "execute_result"
    }
   ],
   "source": [
    "# 使用 Cancellation Confirmation 事件来定义客户流失。将有过该操作的用户定义为流失用户。\n",
    "# 生成流失用户列表\n",
    "churn_users = df.filter(df['page'] == 'Cancellation Confirmation').select('userId').dropDuplicates()\n",
    "churn_users_list = [user['userId'] for user in churn_users.collect()]\n",
    "churn_users_list[:5]"
   ]
  },
  {
   "cell_type": "code",
   "execution_count": 9,
   "metadata": {},
   "outputs": [
    {
     "data": {
      "text/plain": [
       "Row(artist='Martin Orford', auth='Logged In', firstName='Joseph', gender='M', itemInSession=20, lastName='Morales', length=597.55057, level='free', location='Corpus Christi, TX', method='PUT', page='NextSong', registration=1532063507000, sessionId=292, song='Grand Designs', status=200, ts=1538352011000, userAgent='\"Mozilla/5.0 (Macintosh; Intel Mac OS X 10_9_4) AppleWebKit/537.36 (KHTML, like Gecko) Chrome/36.0.1985.125 Safari/537.36\"', userId='293', churn=True)"
      ]
     },
     "execution_count": 9,
     "metadata": {},
     "output_type": "execute_result"
    }
   ],
   "source": [
    "# 增加一列，标记流失，True 代表流失，False 代表没有流失\n",
    "df_churn = df.withColumn('churn', df['userId'].isin(churn_users_list))\n",
    "df_churn.head()"
   ]
  },
  {
   "cell_type": "code",
   "execution_count": 10,
   "metadata": {},
   "outputs": [
    {
     "name": "stdout",
     "output_type": "stream",
     "text": [
      "总用户：448 人，其中流失用户：99 人，占总用户数的：22.1%\n"
     ]
    }
   ],
   "source": [
    "# 流失用户占比\n",
    "churn_users_num = len(churn_users_list)\n",
    "total_users_num = df_churn.select('userId').dropDuplicates().count()\n",
    "\n",
    "print('总用户：{} 人，其中流失用户：{} 人，占总用户数的：{:0.1f}%' \\\n",
    "      .format(total_users_num, churn_users_num, 100*churn_users_num/total_users_num))"
   ]
  },
  {
   "cell_type": "markdown",
   "metadata": {},
   "source": [
    "## 特征工程\n",
    "通过对小数据集的探索分析，熟悉了数据。然后，决定选取以下特征，共有12个。\n",
    "- churn：是否流失，1: 流失，0: 未流失\n",
    "- gender：性别，1: male，0: female\n",
    "- has_paid：是否付费（用户等级），1: 有过 paid，0: 全是 free\n",
    "- friendcount：加好友次数\n",
    "- playlistcount：加播放列表次数\n",
    "- advertcount：看到广告次数\n",
    "- upcount：喜欢的次数\n",
    "- downcount：不喜欢的次数\n",
    "- lifetime：注册到最后一次记录的天数\n",
    "- sessioncount：session 次数\n",
    "- avg_songs：平均每个 session 听多少首歌\n",
    "- artistcount：用户听过的歌曲的歌手数量（去重）"
   ]
  },
  {
   "cell_type": "code",
   "execution_count": 11,
   "metadata": {},
   "outputs": [],
   "source": [
    "f1_churn = df_churn.select('userId', 'churn').dropDuplicates() \\\n",
    "        .replace(['False', 'True'], ['0', '1'], 'churn') \\\n",
    "        .select('userId', col('churn').cast('int'))\n",
    "\n",
    "f2_gender = df_churn.select('userId', 'gender').dropDuplicates() \\\n",
    "        .replace(['F', 'M'], ['0', '1'], 'gender') \\\n",
    "        .select('userId', col('gender').cast('int'))\n",
    "\n",
    "f3_friendcount = df_churn.select('userId', 'page') \\\n",
    "        .where(df_churn['page'] == 'Add Friend') \\\n",
    "        .groupBy('userId') \\\n",
    "        .count() \\\n",
    "        .withColumnRenamed('count', 'friendcount')\n",
    "\n",
    "f4_playlistcount = df_churn.select('userId', 'page') \\\n",
    "        .where(df_churn['page'] == 'Add to Playlist') \\\n",
    "        .groupBy('userId') \\\n",
    "        .count() \\\n",
    "        .withColumnRenamed('count', 'playlistcount')\n",
    "\n",
    "f5_advertcount = df_churn.select('userId', 'page') \\\n",
    "        .where(df_churn['page'] == 'Roll Advert') \\\n",
    "        .groupBy('userId') \\\n",
    "        .count() \\\n",
    "        .withColumnRenamed('count', 'advertcount')\n",
    "\n",
    "f6_upcount = df_churn.select('userId', 'page') \\\n",
    "        .where(df_churn['page'] == 'Thumbs Up') \\\n",
    "        .groupBy('userId') \\\n",
    "        .count() \\\n",
    "        .withColumnRenamed('count', 'upcount')\n",
    "\n",
    "f7_downcount = df_churn.select('userId', 'page') \\\n",
    "        .where(df_churn['page'] == 'Thumbs Down') \\\n",
    "        .groupBy('userId') \\\n",
    "        .count() \\\n",
    "        .withColumnRenamed('count', 'downcount')\n",
    "\n",
    "f8_lifetime = df_churn.select('userId', 'registration', 'ts') \\\n",
    "        .withColumn('lifetime', (df_churn['ts']-df_churn['registration'])) \\\n",
    "        .groupBy('userId') \\\n",
    "        .agg({'lifetime':'max'}) \\\n",
    "        .withColumnRenamed('max(lifetime)', 'lifetime') \\\n",
    "        .select('userId', (col('lifetime')/(1000*3600*24)).alias('lifetime'))\n",
    "\n",
    "f9_avgsongs = df_churn.select('userID', 'sessionId', 'page') \\\n",
    "            .filter(df_churn['page'] == 'NextSong') \\\n",
    "            .groupby('userId', 'sessionId') \\\n",
    "            .agg({'page': 'count'}) \\\n",
    "            .groupby('userId') \\\n",
    "            .agg({'count(page)': 'avg'}) \\\n",
    "            .withColumnRenamed('avg(count(page))', 'avgsongs') \n",
    "\n",
    "f10_artistcount = df_churn.select('userId', 'artist').dropDuplicates() \\\n",
    "        .filter(df_churn['page'] == 'NextSong') \\\n",
    "        .groupby('userId').count() \\\n",
    "        .withColumnRenamed('count', 'artistcount') \\"
   ]
  },
  {
   "cell_type": "code",
   "execution_count": 12,
   "metadata": {},
   "outputs": [
    {
     "data": {
      "text/plain": [
       "Row(churn=1, gender=0, friendcount=3, playlistcount=1, advertcount=22, upcount=4, downcount=3, lifetime=14.328449074074074, avgsongs=48.0, artistcount=94)"
      ]
     },
     "execution_count": 12,
     "metadata": {},
     "output_type": "execute_result"
    }
   ],
   "source": [
    "df_all = f1_churn.join(f2_gender, ['userId']) \\\n",
    "    .join(f3_friendcount, ['userId']) \\\n",
    "    .join(f4_playlistcount, ['userId']) \\\n",
    "    .join(f5_advertcount, ['userId']) \\\n",
    "    .join(f6_upcount, ['userId']) \\\n",
    "    .join(f7_downcount, ['userId']) \\\n",
    "    .join(f8_lifetime, ['userId']) \\\n",
    "    .join(f9_avgsongs, ['userId']) \\\n",
    "    .join(f10_artistcount, ['userId']) \\\n",
    "    .drop('userId') \\\n",
    "    .fillna(0)\n",
    "\n",
    "df_all.head()"
   ]
  },
  {
   "cell_type": "markdown",
   "metadata": {},
   "source": [
    "# 2. 建模\n",
    "将完整数据集分成训练集、测试集和验证集。测试几种你学过的机器学习方法。评价不同机器学习方法的准确率，根据情况调节参数。根据准确率你挑选出表现最好的那个模型，然后报告在训练集上的结果。因为流失顾客数据集很小，我建议选用 F1 score 作为优化指标。"
   ]
  },
  {
   "cell_type": "code",
   "execution_count": 13,
   "metadata": {},
   "outputs": [
    {
     "data": {
      "text/plain": [
       "Row(churn=1, gender=0, friendcount=3, playlistcount=1, advertcount=22, upcount=4, downcount=3, lifetime=14.328449074074074, avgsongs=48.0, artistcount=94, NumFeatures=DenseVector([0.0, 3.0, 1.0, 22.0, 4.0, 3.0, 14.3284, 48.0, 94.0]), features=DenseVector([0.0, 0.1258, 0.0278, 0.9607, 0.0534, 0.2128, 0.3442, 1.4187, 0.1467]))"
      ]
     },
     "execution_count": 13,
     "metadata": {},
     "output_type": "execute_result"
    }
   ],
   "source": [
    "# 向量化\n",
    "cols = ['gender', 'friendcount', 'playlistcount', 'advertcount', \n",
    "        'upcount', 'downcount', 'lifetime', 'avgsongs', 'artistcount']\n",
    "assembler = VectorAssembler(inputCols=cols, outputCol='NumFeatures')\n",
    "data = assembler.transform(df_all)\n",
    "\n",
    "# 标准化\n",
    "scaler = StandardScaler(inputCol='NumFeatures', outputCol='features', withStd=True)\n",
    "scalerModel = scaler.fit(data)\n",
    "data = scalerModel.transform(data)\n",
    "data.head()"
   ]
  },
  {
   "cell_type": "code",
   "execution_count": 14,
   "metadata": {},
   "outputs": [
    {
     "data": {
      "text/plain": [
       "Row(label=1, features=DenseVector([0.0, 0.1258, 0.0278, 0.9607, 0.0534, 0.2128, 0.3442, 1.4187, 0.1467]))"
      ]
     },
     "execution_count": 14,
     "metadata": {},
     "output_type": "execute_result"
    }
   ],
   "source": [
    "data_model = data.select(data['churn'].alias('label'), data['features'])\n",
    "data_model.head()"
   ]
  },
  {
   "cell_type": "markdown",
   "metadata": {},
   "source": [
    "## 将数据集分成训练集、测试集和验证集"
   ]
  },
  {
   "cell_type": "code",
   "execution_count": 15,
   "metadata": {},
   "outputs": [],
   "source": [
    "# 训练集：测试集：验证集 = 60%：20%：20%\n",
    "train, rest = data_model.randomSplit([0.6, 0.4], seed=42)\n",
    "test, validation = rest.randomSplit([0.5, 0.5], seed=42)"
   ]
  },
  {
   "cell_type": "markdown",
   "metadata": {},
   "source": [
    "## 建模\n",
    "在小数据集探索后，这里直接选用 Gradient Boosted Tree 建模。"
   ]
  },
  {
   "cell_type": "markdown",
   "metadata": {},
   "source": [
    "### Logistic Regression"
   ]
  },
  {
   "cell_type": "code",
   "execution_count": 16,
   "metadata": {},
   "outputs": [],
   "source": [
    "# 因为流失顾客数据集很小，所以选用 F1 score 作为优化指标。\n",
    "f1_score = MulticlassClassificationEvaluator(metricName='f1')"
   ]
  },
  {
   "cell_type": "code",
   "execution_count": 17,
   "metadata": {},
   "outputs": [],
   "source": [
    "gbt = GBTClassifier(seed=42)\n",
    "\n",
    "# build paramGrid\n",
    "paramGrid_gbt = ParamGridBuilder() \\\n",
    "    .addGrid(gbt.maxDepth,[4, 5, 10]) \\\n",
    "    .addGrid(gbt.maxIter,[10, 15]) \\\n",
    "    .build()\n",
    "\n",
    "crossval_tuned = CrossValidator(estimator=gbt, estimatorParamMaps=paramGrid_gbt, evaluator=f1_score, numFolds=3)"
   ]
  },
  {
   "cell_type": "code",
   "execution_count": null,
   "metadata": {},
   "outputs": [
    {
     "data": {
      "text/plain": [
       "[0.7496831011691335,\n",
       " 0.7456805428082269,\n",
       " 0.7225740341356527,\n",
       " 0.7264304380829244,\n",
       " 0.7054986571568373,\n",
       " 0.7054986571568373]"
      ]
     },
     "execution_count": 18,
     "metadata": {},
     "output_type": "execute_result"
    }
   ],
   "source": [
    "Model_tuned = crossval_tuned.fit(train)\n",
    "Model_tuned.avgMetrics"
   ]
  },
  {
   "cell_type": "code",
   "execution_count": 19,
   "metadata": {},
   "outputs": [
    {
     "name": "stdout",
     "output_type": "stream",
     "text": [
      "Best Model:\n",
      "Accuracy: 0.7741935483870968\n",
      "F1 Score: 0.794588969823101\n"
     ]
    }
   ],
   "source": [
    "# 最好的模型\n",
    "gbt_best = GBTClassifier(seed=42, maxDepth=4, maxIter=10)\n",
    "gbt_best_model = gbt_best.fit(train)\n",
    "gbt_best_result = gbt_best_model.transform(validation)\n",
    "\n",
    "evaluator = MulticlassClassificationEvaluator(predictionCol='prediction')\n",
    "print('Best Model:')\n",
    "print('Accuracy: {}'.format(evaluator.evaluate(gbt_best_result, {evaluator.metricName: 'accuracy'})))\n",
    "print('F1 Score: {}'.format(evaluator.evaluate(gbt_best_result, {evaluator.metricName: 'f1'})))"
   ]
  },
  {
   "cell_type": "code",
   "execution_count": 20,
   "metadata": {},
   "outputs": [
    {
     "data": {
      "image/png": "[encoded data removed]",
      "text/plain": [
       "<Figure size 432x288 with 1 Axes>"
      ]
     },
     "metadata": {
      "needs_background": "light"
     },
     "output_type": "display_data"
    }
   ],
   "source": [
    "# 特征重要性\n",
    "importances = gbt_best_model.featureImportances.values\n",
    "cols = ['gender', 'friendcount', 'playlistcount', 'advertcount', \n",
    "        'upcount', 'downcount', 'lifetime', 'avgsongs', 'artistcount']\n",
    "y = np.arange(len(cols))\n",
    " \n",
    "plt.barh(y, importances, align='center')\n",
    "plt.yticks(y, cols)\n",
    "plt.xlabel('Importance Score')\n",
    "plt.title('GBT Feature Importances');"
   ]
  },
  {
   "cell_type": "code",
   "execution_count": null,
   "metadata": {},
   "outputs": [],
   "source": []
  }
 ],
 "metadata": {
  "kernelspec": {
   "display_name": "Python 3.6 with Spark",
   "language": "python3",
   "name": "python36"
  },
  "language_info": {
   "codemirror_mode": {
    "name": "ipython",
    "version": 3
   },
   "file_extension": ".py",
   "mimetype": "text/x-python",
   "name": "python",
   "nbconvert_exporter": "python",
   "pygments_lexer": "ipython3",
   "version": "3.6.8"
  }
 },
 "nbformat": 4,
 "nbformat_minor": 1
}
